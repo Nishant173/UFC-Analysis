{
 "cells": [
  {
   "cell_type": "code",
   "execution_count": 1,
   "metadata": {},
   "outputs": [],
   "source": [
    "import warnings\n",
    "\n",
    "import numpy as np\n",
    "import pandas as pd\n",
    "import matplotlib.pyplot as plt\n",
    "\n",
    "from sklearn.preprocessing import LabelEncoder, StandardScaler\n",
    "from sklearn.model_selection import train_test_split\n",
    "from sklearn.linear_model import LogisticRegression\n",
    "from sklearn.ensemble import RandomForestClassifier\n",
    "from sklearn.svm import SVC\n",
    "from sklearn.neighbors import KNeighborsClassifier\n",
    "from sklearn.decomposition import PCA\n",
    "from sklearn.metrics import confusion_matrix, accuracy_score\n",
    "\n",
    "%matplotlib inline"
   ]
  },
  {
   "cell_type": "code",
   "execution_count": 2,
   "metadata": {},
   "outputs": [
    {
     "data": {
      "text/plain": [
       "(4939, 33)"
      ]
     },
     "execution_count": 2,
     "metadata": {},
     "output_type": "execute_result"
    }
   ],
   "source": [
    "df_examples = pd.read_csv(filepath_or_buffer=\"../data/df_examples.csv\")\n",
    "df_examples.shape"
   ]
  },
  {
   "cell_type": "code",
   "execution_count": 3,
   "metadata": {},
   "outputs": [
    {
     "data": {
      "text/plain": [
       "(100, 33)"
      ]
     },
     "execution_count": 3,
     "metadata": {},
     "output_type": "execute_result"
    }
   ],
   "source": [
    "df_holdout = pd.read_csv(filepath_or_buffer=\"../data/df_holdout.csv\")\n",
    "df_holdout.shape"
   ]
  },
  {
   "cell_type": "code",
   "execution_count": 4,
   "metadata": {},
   "outputs": [
    {
     "data": {
      "text/plain": [
       "(5039, 33)"
      ]
     },
     "execution_count": 4,
     "metadata": {},
     "output_type": "execute_result"
    }
   ],
   "source": [
    "df = pd.concat(objs=[df_examples, df_holdout], ignore_index=True, sort=False)\n",
    "df.shape"
   ]
  },
  {
   "cell_type": "markdown",
   "metadata": {},
   "source": [
    "# Data Pre-processing and Modeling"
   ]
  },
  {
   "cell_type": "code",
   "execution_count": null,
   "metadata": {},
   "outputs": [],
   "source": [
    "# features_to_drop = ['day_of_week_', 'country_', 'win_by_']\n",
    "# if features_to_drop:\n",
    "#     df_examples.drop(labels=features_to_drop, axis=1, inplace=True)\n",
    "# if features_to_drop:\n",
    "#     df_holdout.drop(labels=features_to_drop, axis=1, inplace=True)"
   ]
  },
  {
   "cell_type": "code",
   "execution_count": 5,
   "metadata": {},
   "outputs": [],
   "source": [
    "categorical_columns = ['day_of_week_', 'country_', 'win_by_']\n",
    "for categorical_column in categorical_columns:\n",
    "    df[categorical_column] = df[categorical_column].astype(str)\n",
    "\n",
    "df = pd.get_dummies(data=df, drop_first=True, prefix_sep='', columns=categorical_columns)"
   ]
  },
  {
   "cell_type": "code",
   "execution_count": 6,
   "metadata": {},
   "outputs": [
    {
     "data": {
      "text/html": [
       "<div>\n",
       "<style scoped>\n",
       "    .dataframe tbody tr th:only-of-type {\n",
       "        vertical-align: middle;\n",
       "    }\n",
       "\n",
       "    .dataframe tbody tr th {\n",
       "        vertical-align: top;\n",
       "    }\n",
       "\n",
       "    .dataframe thead th {\n",
       "        text-align: right;\n",
       "    }\n",
       "</style>\n",
       "<table border=\"1\" class=\"dataframe\">\n",
       "  <thead>\n",
       "    <tr style=\"text-align: right;\">\n",
       "      <th></th>\n",
       "      <th>R_SIG_STR_pct</th>\n",
       "      <th>B_SIG_STR_pct</th>\n",
       "      <th>R_TD_pct</th>\n",
       "      <th>B_TD_pct</th>\n",
       "      <th>R_SUB_ATT</th>\n",
       "      <th>B_SUB_ATT</th>\n",
       "      <th>R_PASS</th>\n",
       "      <th>B_PASS</th>\n",
       "      <th>R_REV</th>\n",
       "      <th>B_REV</th>\n",
       "      <th>...</th>\n",
       "      <th>country_6</th>\n",
       "      <th>country_7</th>\n",
       "      <th>country_8</th>\n",
       "      <th>country_9</th>\n",
       "      <th>win_by_2</th>\n",
       "      <th>win_by_3</th>\n",
       "      <th>win_by_4</th>\n",
       "      <th>win_by_5</th>\n",
       "      <th>win_by_6</th>\n",
       "      <th>win_by_7</th>\n",
       "    </tr>\n",
       "  </thead>\n",
       "  <tbody>\n",
       "    <tr>\n",
       "      <td>0</td>\n",
       "      <td>16.0</td>\n",
       "      <td>30.0</td>\n",
       "      <td>0.0</td>\n",
       "      <td>50.0</td>\n",
       "      <td>0</td>\n",
       "      <td>1</td>\n",
       "      <td>0</td>\n",
       "      <td>1</td>\n",
       "      <td>0</td>\n",
       "      <td>0</td>\n",
       "      <td>...</td>\n",
       "      <td>0</td>\n",
       "      <td>0</td>\n",
       "      <td>0</td>\n",
       "      <td>0</td>\n",
       "      <td>0</td>\n",
       "      <td>0</td>\n",
       "      <td>1</td>\n",
       "      <td>0</td>\n",
       "      <td>0</td>\n",
       "      <td>0</td>\n",
       "    </tr>\n",
       "    <tr>\n",
       "      <td>1</td>\n",
       "      <td>40.0</td>\n",
       "      <td>57.0</td>\n",
       "      <td>0.0</td>\n",
       "      <td>0.0</td>\n",
       "      <td>0</td>\n",
       "      <td>0</td>\n",
       "      <td>0</td>\n",
       "      <td>0</td>\n",
       "      <td>0</td>\n",
       "      <td>0</td>\n",
       "      <td>...</td>\n",
       "      <td>0</td>\n",
       "      <td>0</td>\n",
       "      <td>0</td>\n",
       "      <td>0</td>\n",
       "      <td>0</td>\n",
       "      <td>0</td>\n",
       "      <td>0</td>\n",
       "      <td>0</td>\n",
       "      <td>0</td>\n",
       "      <td>0</td>\n",
       "    </tr>\n",
       "    <tr>\n",
       "      <td>2</td>\n",
       "      <td>48.0</td>\n",
       "      <td>61.0</td>\n",
       "      <td>70.0</td>\n",
       "      <td>66.0</td>\n",
       "      <td>0</td>\n",
       "      <td>0</td>\n",
       "      <td>3</td>\n",
       "      <td>4</td>\n",
       "      <td>1</td>\n",
       "      <td>3</td>\n",
       "      <td>...</td>\n",
       "      <td>0</td>\n",
       "      <td>0</td>\n",
       "      <td>0</td>\n",
       "      <td>0</td>\n",
       "      <td>1</td>\n",
       "      <td>0</td>\n",
       "      <td>0</td>\n",
       "      <td>0</td>\n",
       "      <td>0</td>\n",
       "      <td>0</td>\n",
       "    </tr>\n",
       "    <tr>\n",
       "      <td>3</td>\n",
       "      <td>50.0</td>\n",
       "      <td>78.0</td>\n",
       "      <td>0.0</td>\n",
       "      <td>50.0</td>\n",
       "      <td>0</td>\n",
       "      <td>0</td>\n",
       "      <td>0</td>\n",
       "      <td>0</td>\n",
       "      <td>0</td>\n",
       "      <td>0</td>\n",
       "      <td>...</td>\n",
       "      <td>0</td>\n",
       "      <td>0</td>\n",
       "      <td>0</td>\n",
       "      <td>0</td>\n",
       "      <td>0</td>\n",
       "      <td>0</td>\n",
       "      <td>0</td>\n",
       "      <td>0</td>\n",
       "      <td>0</td>\n",
       "      <td>0</td>\n",
       "    </tr>\n",
       "    <tr>\n",
       "      <td>4</td>\n",
       "      <td>54.0</td>\n",
       "      <td>30.0</td>\n",
       "      <td>50.0</td>\n",
       "      <td>0.0</td>\n",
       "      <td>0</td>\n",
       "      <td>0</td>\n",
       "      <td>1</td>\n",
       "      <td>0</td>\n",
       "      <td>0</td>\n",
       "      <td>0</td>\n",
       "      <td>...</td>\n",
       "      <td>0</td>\n",
       "      <td>0</td>\n",
       "      <td>0</td>\n",
       "      <td>0</td>\n",
       "      <td>1</td>\n",
       "      <td>0</td>\n",
       "      <td>0</td>\n",
       "      <td>0</td>\n",
       "      <td>0</td>\n",
       "      <td>0</td>\n",
       "    </tr>\n",
       "  </tbody>\n",
       "</table>\n",
       "<p>5 rows × 65 columns</p>\n",
       "</div>"
      ],
      "text/plain": [
       "   R_SIG_STR_pct  B_SIG_STR_pct  R_TD_pct  B_TD_pct  R_SUB_ATT  B_SUB_ATT  \\\n",
       "0           16.0           30.0       0.0      50.0          0          1   \n",
       "1           40.0           57.0       0.0       0.0          0          0   \n",
       "2           48.0           61.0      70.0      66.0          0          0   \n",
       "3           50.0           78.0       0.0      50.0          0          0   \n",
       "4           54.0           30.0      50.0       0.0          0          0   \n",
       "\n",
       "   R_PASS  B_PASS  R_REV  B_REV  ...  country_6  country_7  country_8  \\\n",
       "0       0       1      0      0  ...          0          0          0   \n",
       "1       0       0      0      0  ...          0          0          0   \n",
       "2       3       4      1      3  ...          0          0          0   \n",
       "3       0       0      0      0  ...          0          0          0   \n",
       "4       1       0      0      0  ...          0          0          0   \n",
       "\n",
       "   country_9  win_by_2  win_by_3  win_by_4  win_by_5  win_by_6  win_by_7  \n",
       "0          0         0         0         1         0         0         0  \n",
       "1          0         0         0         0         0         0         0  \n",
       "2          0         1         0         0         0         0         0  \n",
       "3          0         0         0         0         0         0         0  \n",
       "4          0         1         0         0         0         0         0  \n",
       "\n",
       "[5 rows x 65 columns]"
      ]
     },
     "execution_count": 6,
     "metadata": {},
     "output_type": "execute_result"
    }
   ],
   "source": [
    "df.head()"
   ]
  },
  {
   "cell_type": "code",
   "execution_count": 7,
   "metadata": {},
   "outputs": [],
   "source": [
    "holdout = 100\n",
    "df_holdout = df.head(holdout)\n",
    "df_examples = df.tail(len(df) - holdout)"
   ]
  },
  {
   "cell_type": "markdown",
   "metadata": {},
   "source": [
    "### Decide how many components you want to use for PCA"
   ]
  },
  {
   "cell_type": "code",
   "execution_count": 8,
   "metadata": {},
   "outputs": [
    {
     "data": {
      "image/png": "[encoded data removed]",
      "text/plain": [
       "<Figure size 1152x576 with 1 Axes>"
      ]
     },
     "metadata": {},
     "output_type": "display_data"
    }
   ],
   "source": [
    "warnings.filterwarnings(action='ignore')\n",
    "n_components_values = np.arange(1, 15+1, 1)\n",
    "variances = list()\n",
    "for n_value in n_components_values:\n",
    "    X = df_examples.drop(labels='Result', axis=1)\n",
    "    y = df_examples['Result'].values\n",
    "\n",
    "    X_train, X_test, y_train, y_test = train_test_split(X, y, test_size=0.2, random_state=0)\n",
    "    sc = StandardScaler()\n",
    "    X_train = sc.fit_transform(X_train)\n",
    "    X_test = sc.transform(X_test)\n",
    "\n",
    "    pca = PCA(n_components=n_value)\n",
    "    X_train = pca.fit_transform(X_train)\n",
    "    X_test = pca.transform(X_test)\n",
    "    explained_variance = pca.explained_variance_ratio_\n",
    "    variance = round(explained_variance.sum() * 100, 2)\n",
    "    variances.append(variance)\n",
    "\n",
    "thickness = 2\n",
    "plt.figure(figsize=(16,8))\n",
    "plt.plot(n_components_values, variances, color='purple', linewidth=thickness, marker='*', ms=thickness*6)\n",
    "plt.xlabel(\"n_components_values\", fontsize=20)\n",
    "plt.ylabel(\"explained_variance (%)\", fontsize=20)\n",
    "plt.xticks(n_components_values, fontsize=20)\n",
    "plt.yticks(fontsize=20)\n",
    "plt.title(\"n_components vs explained_variance\", fontsize=30)\n",
    "plt.grid()\n",
    "plt.show()"
   ]
  },
  {
   "cell_type": "markdown",
   "metadata": {},
   "source": [
    "### Use appropriate 'n' value for `n_components`. I decided to use n_components=5"
   ]
  },
  {
   "cell_type": "code",
   "execution_count": 9,
   "metadata": {},
   "outputs": [],
   "source": [
    "X = df_examples.drop(labels='Result', axis=1)\n",
    "y = df_examples['Result'].values\n",
    "\n",
    "X_train, X_test, y_train, y_test = train_test_split(X, y, test_size=0.2, random_state=0)\n",
    "sc = StandardScaler()\n",
    "X_train = sc.fit_transform(X_train)\n",
    "X_test = sc.transform(X_test)\n",
    "\n",
    "# pca = PCA(n_components=5)\n",
    "# X_train = pca.fit_transform(X_train)\n",
    "# X_test = pca.transform(X_test)"
   ]
  },
  {
   "cell_type": "markdown",
   "metadata": {},
   "source": [
    "### Build classifier"
   ]
  },
  {
   "cell_type": "code",
   "execution_count": 10,
   "metadata": {},
   "outputs": [
    {
     "name": "stdout",
     "output_type": "stream",
     "text": [
      "cm: [[218  96]\n",
      " [ 73 601]]\n",
      "accuracy: 0.8289473684210527\n"
     ]
    }
   ],
   "source": [
    "# classifier = LogisticRegression(random_state=0)\n",
    "classifier = RandomForestClassifier(max_depth=30, random_state=0)\n",
    "# classifier = KNeighborsClassifier(n_neighbors=5, p=2, metric='minkowski', n_jobs=-1)\n",
    "classifier.fit(X_train, y_train)\n",
    "y_pred = classifier.predict(X_test)\n",
    "\n",
    "cm = confusion_matrix(y_test, y_pred)\n",
    "accuracy = accuracy_score(y_test, y_pred)\n",
    "print(\"cm: {}\\naccuracy: {}\".format(cm, accuracy))"
   ]
  },
  {
   "cell_type": "markdown",
   "metadata": {},
   "source": [
    "### Make predictions on unseen data"
   ]
  },
  {
   "cell_type": "code",
   "execution_count": 11,
   "metadata": {},
   "outputs": [
    {
     "data": {
      "text/plain": [
       "Red     53\n",
       "Blue    47\n",
       "Name: Result, dtype: int64"
      ]
     },
     "execution_count": 11,
     "metadata": {},
     "output_type": "execute_result"
    }
   ],
   "source": [
    "df_holdout['Result'].value_counts()"
   ]
  },
  {
   "cell_type": "code",
   "execution_count": 12,
   "metadata": {},
   "outputs": [
    {
     "data": {
      "text/plain": [
       "76.0"
      ]
     },
     "execution_count": 12,
     "metadata": {},
     "output_type": "execute_result"
    }
   ],
   "source": [
    "# df_holdout = df_holdout.head(1)\n",
    "df_holdout_X = df_holdout.drop(labels='Result', axis=1)\n",
    "\n",
    "sc = StandardScaler()\n",
    "X_holdout = sc.fit_transform(df_holdout_X)\n",
    "y_pred = classifier.predict(X_holdout)\n",
    "\n",
    "model_accuracy = accuracy_score(y_true=df_holdout['Result'].values, y_pred=y_pred, normalize=True) * 100\n",
    "model_accuracy = round(model_accuracy, 2)\n",
    "model_accuracy"
   ]
  },
  {
   "cell_type": "code",
   "execution_count": 13,
   "metadata": {},
   "outputs": [
    {
     "data": {
      "text/plain": [
       "array([[30, 17],\n",
       "       [ 7, 46]], dtype=int64)"
      ]
     },
     "execution_count": 13,
     "metadata": {},
     "output_type": "execute_result"
    }
   ],
   "source": [
    "cm = confusion_matrix(y_true=df_holdout['Result'].values, y_pred=y_pred)\n",
    "cm"
   ]
  },
  {
   "cell_type": "code",
   "execution_count": 14,
   "metadata": {},
   "outputs": [],
   "source": [
    "def get_feature_importances(model, df):\n",
    "    feature_column = 'Feature'\n",
    "    importance_column = 'Importance_Percentage'\n",
    "    data = {\n",
    "        feature_column: df.columns,\n",
    "        importance_column: model.feature_importances_\n",
    "    }\n",
    "    df_feature_importances = pd.DataFrame(data=data).sort_values(by=importance_column, ascending=False)\n",
    "    df_feature_importances[importance_column] = df_feature_importances[importance_column] * 100\n",
    "    df_feature_importances[importance_column] = df_feature_importances[importance_column].apply(round, args=[2])\n",
    "    df_feature_importances.reset_index(drop=True, inplace=True)\n",
    "    return df_feature_importances"
   ]
  },
  {
   "cell_type": "code",
   "execution_count": 15,
   "metadata": {},
   "outputs": [
    {
     "name": "stdout",
     "output_type": "stream",
     "text": [
      "                      Feature  Importance_Percentage\n",
      "0    B_GROUND_success_percent                   8.37\n",
      "1      B_HEAD_success_percent                   7.12\n",
      "2      R_HEAD_success_percent                   7.10\n",
      "3    R_GROUND_success_percent                   5.51\n",
      "4  R_SIG_STR._success_percent                   4.89\n",
      "5  B_SIG_STR._success_percent                   4.77\n",
      "6        B_KD_success_percent                   4.44\n",
      "7                      R_PASS                   4.41\n"
     ]
    }
   ],
   "source": [
    "# feat_importance = get_feature_importances(model=classifier, df=X)\n",
    "# feat_importance.head(8)\n",
    "\n",
    "if str(classifier.base_estimator_)[:22] == 'DecisionTreeClassifier':\n",
    "    feat_importance = get_feature_importances(model=classifier, df=X)\n",
    "    print(feat_importance.head(8))"
   ]
  },
  {
   "cell_type": "code",
   "execution_count": 16,
   "metadata": {},
   "outputs": [
    {
     "data": {
      "image/png": "[encoded data removed]",
      "text/plain": [
       "<Figure size 432x288 with 1 Axes>"
      ]
     },
     "metadata": {},
     "output_type": "display_data"
    }
   ],
   "source": [
    "feat_importance.set_index(keys='Feature').head(8).plot(kind='barh')\n",
    "plt.show()"
   ]
  },
  {
   "cell_type": "code",
   "execution_count": null,
   "metadata": {},
   "outputs": [],
   "source": []
  }
 ],
 "metadata": {
  "kernelspec": {
   "display_name": "Python 3",
   "language": "python",
   "name": "python3"
  },
  "language_info": {
   "codemirror_mode": {
    "name": "ipython",
    "version": 3
   },
   "file_extension": ".py",
   "mimetype": "text/x-python",
   "name": "python",
   "nbconvert_exporter": "python",
   "pygments_lexer": "ipython3",
   "version": "3.6.7"
  }
 },
 "nbformat": 4,
 "nbformat_minor": 2
}
