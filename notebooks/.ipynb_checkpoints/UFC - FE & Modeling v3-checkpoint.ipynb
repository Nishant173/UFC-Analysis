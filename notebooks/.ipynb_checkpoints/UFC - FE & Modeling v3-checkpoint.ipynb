{
 "cells": [
  {
   "cell_type": "code",
   "execution_count": 1,
   "metadata": {},
   "outputs": [],
   "source": [
    "import calendar\n",
    "import numpy as np\n",
    "import pandas as pd\n",
    "import matplotlib.pyplot as plt\n",
    "import seaborn as sns\n",
    "\n",
    "%matplotlib inline"
   ]
  },
  {
   "cell_type": "code",
   "execution_count": 2,
   "metadata": {},
   "outputs": [],
   "source": [
    "pd.set_option('display.max_columns', None)\n",
    "pd.set_option('display.max_rows', None)"
   ]
  },
  {
   "cell_type": "code",
   "execution_count": 3,
   "metadata": {},
   "outputs": [
    {
     "data": {
      "text/plain": [
       "(5144, 41)"
      ]
     },
     "execution_count": 3,
     "metadata": {},
     "output_type": "execute_result"
    }
   ],
   "source": [
    "path = \"../data/raw_total_fight_data.csv\"\n",
    "df_total_fight_data = pd.read_csv(filepath_or_buffer=path, sep=';')\n",
    "df_total_fight_data.shape"
   ]
  },
  {
   "cell_type": "code",
   "execution_count": 4,
   "metadata": {},
   "outputs": [
    {
     "data": {
      "text/html": [
       "<div>\n",
       "<style scoped>\n",
       "    .dataframe tbody tr th:only-of-type {\n",
       "        vertical-align: middle;\n",
       "    }\n",
       "\n",
       "    .dataframe tbody tr th {\n",
       "        vertical-align: top;\n",
       "    }\n",
       "\n",
       "    .dataframe thead th {\n",
       "        text-align: right;\n",
       "    }\n",
       "</style>\n",
       "<table border=\"1\" class=\"dataframe\">\n",
       "  <thead>\n",
       "    <tr style=\"text-align: right;\">\n",
       "      <th></th>\n",
       "      <th>R_fighter</th>\n",
       "      <th>B_fighter</th>\n",
       "      <th>R_KD</th>\n",
       "      <th>B_KD</th>\n",
       "      <th>R_SIG_STR.</th>\n",
       "      <th>B_SIG_STR.</th>\n",
       "      <th>R_SIG_STR_pct</th>\n",
       "      <th>B_SIG_STR_pct</th>\n",
       "      <th>R_TOTAL_STR.</th>\n",
       "      <th>B_TOTAL_STR.</th>\n",
       "      <th>R_TD</th>\n",
       "      <th>B_TD</th>\n",
       "      <th>R_TD_pct</th>\n",
       "      <th>B_TD_pct</th>\n",
       "      <th>R_SUB_ATT</th>\n",
       "      <th>B_SUB_ATT</th>\n",
       "      <th>R_PASS</th>\n",
       "      <th>B_PASS</th>\n",
       "      <th>R_REV</th>\n",
       "      <th>B_REV</th>\n",
       "      <th>R_HEAD</th>\n",
       "      <th>B_HEAD</th>\n",
       "      <th>R_BODY</th>\n",
       "      <th>B_BODY</th>\n",
       "      <th>R_LEG</th>\n",
       "      <th>B_LEG</th>\n",
       "      <th>R_DISTANCE</th>\n",
       "      <th>B_DISTANCE</th>\n",
       "      <th>R_CLINCH</th>\n",
       "      <th>B_CLINCH</th>\n",
       "      <th>R_GROUND</th>\n",
       "      <th>B_GROUND</th>\n",
       "      <th>win_by</th>\n",
       "      <th>last_round</th>\n",
       "      <th>last_round_time</th>\n",
       "      <th>Format</th>\n",
       "      <th>Referee</th>\n",
       "      <th>date</th>\n",
       "      <th>location</th>\n",
       "      <th>Fight_type</th>\n",
       "      <th>Winner</th>\n",
       "    </tr>\n",
       "  </thead>\n",
       "  <tbody>\n",
       "    <tr>\n",
       "      <td>0</td>\n",
       "      <td>Henry Cejudo</td>\n",
       "      <td>Marlon Moraes</td>\n",
       "      <td>0</td>\n",
       "      <td>0</td>\n",
       "      <td>90 of 171</td>\n",
       "      <td>57 of 119</td>\n",
       "      <td>52%</td>\n",
       "      <td>47%</td>\n",
       "      <td>99 of 182</td>\n",
       "      <td>59 of 121</td>\n",
       "      <td>1 of 4</td>\n",
       "      <td>0 of 2</td>\n",
       "      <td>25%</td>\n",
       "      <td>0%</td>\n",
       "      <td>1</td>\n",
       "      <td>0</td>\n",
       "      <td>1</td>\n",
       "      <td>0</td>\n",
       "      <td>0</td>\n",
       "      <td>0</td>\n",
       "      <td>73 of 150</td>\n",
       "      <td>35 of 89</td>\n",
       "      <td>13 of 16</td>\n",
       "      <td>7 of 8</td>\n",
       "      <td>4 of 5</td>\n",
       "      <td>15 of 22</td>\n",
       "      <td>45 of 118</td>\n",
       "      <td>54 of 116</td>\n",
       "      <td>19 of 23</td>\n",
       "      <td>2 of 2</td>\n",
       "      <td>26 of 30</td>\n",
       "      <td>1 of 1</td>\n",
       "      <td>KO/TKO</td>\n",
       "      <td>3</td>\n",
       "      <td>4:51</td>\n",
       "      <td>5 Rnd (5-5-5-5-5)</td>\n",
       "      <td>Marc Goddard</td>\n",
       "      <td>June 08, 2019</td>\n",
       "      <td>Chicago, Illinois, USA</td>\n",
       "      <td>UFC Bantamweight Title Bout</td>\n",
       "      <td>Henry Cejudo</td>\n",
       "    </tr>\n",
       "    <tr>\n",
       "      <td>1</td>\n",
       "      <td>Valentina Shevchenko</td>\n",
       "      <td>Jessica Eye</td>\n",
       "      <td>1</td>\n",
       "      <td>0</td>\n",
       "      <td>8 of 11</td>\n",
       "      <td>2 of 12</td>\n",
       "      <td>72%</td>\n",
       "      <td>16%</td>\n",
       "      <td>37 of 40</td>\n",
       "      <td>42 of 52</td>\n",
       "      <td>2 of 2</td>\n",
       "      <td>0 of 0</td>\n",
       "      <td>100%</td>\n",
       "      <td>0%</td>\n",
       "      <td>1</td>\n",
       "      <td>0</td>\n",
       "      <td>3</td>\n",
       "      <td>0</td>\n",
       "      <td>0</td>\n",
       "      <td>0</td>\n",
       "      <td>4 of 5</td>\n",
       "      <td>0 of 7</td>\n",
       "      <td>4 of 6</td>\n",
       "      <td>0 of 2</td>\n",
       "      <td>0 of 0</td>\n",
       "      <td>2 of 3</td>\n",
       "      <td>5 of 8</td>\n",
       "      <td>2 of 12</td>\n",
       "      <td>2 of 2</td>\n",
       "      <td>0 of 0</td>\n",
       "      <td>1 of 1</td>\n",
       "      <td>0 of 0</td>\n",
       "      <td>KO/TKO</td>\n",
       "      <td>2</td>\n",
       "      <td>0:26</td>\n",
       "      <td>5 Rnd (5-5-5-5-5)</td>\n",
       "      <td>Robert Madrigal</td>\n",
       "      <td>June 08, 2019</td>\n",
       "      <td>Chicago, Illinois, USA</td>\n",
       "      <td>UFC Women's Flyweight Title Bout</td>\n",
       "      <td>Valentina Shevchenko</td>\n",
       "    </tr>\n",
       "    <tr>\n",
       "      <td>2</td>\n",
       "      <td>Tony Ferguson</td>\n",
       "      <td>Donald Cerrone</td>\n",
       "      <td>0</td>\n",
       "      <td>0</td>\n",
       "      <td>104 of 200</td>\n",
       "      <td>68 of 185</td>\n",
       "      <td>52%</td>\n",
       "      <td>36%</td>\n",
       "      <td>104 of 200</td>\n",
       "      <td>68 of 185</td>\n",
       "      <td>0 of 0</td>\n",
       "      <td>1 of 1</td>\n",
       "      <td>0%</td>\n",
       "      <td>100%</td>\n",
       "      <td>0</td>\n",
       "      <td>0</td>\n",
       "      <td>0</td>\n",
       "      <td>0</td>\n",
       "      <td>0</td>\n",
       "      <td>0</td>\n",
       "      <td>65 of 144</td>\n",
       "      <td>43 of 152</td>\n",
       "      <td>25 of 37</td>\n",
       "      <td>15 of 23</td>\n",
       "      <td>14 of 19</td>\n",
       "      <td>10 of 10</td>\n",
       "      <td>103 of 198</td>\n",
       "      <td>68 of 184</td>\n",
       "      <td>1 of 2</td>\n",
       "      <td>0 of 1</td>\n",
       "      <td>0 of 0</td>\n",
       "      <td>0 of 0</td>\n",
       "      <td>TKO - Doctor's Stoppage</td>\n",
       "      <td>2</td>\n",
       "      <td>5:00</td>\n",
       "      <td>3 Rnd (5-5-5)</td>\n",
       "      <td>Dan Miragliotta</td>\n",
       "      <td>June 08, 2019</td>\n",
       "      <td>Chicago, Illinois, USA</td>\n",
       "      <td>Lightweight Bout</td>\n",
       "      <td>Tony Ferguson</td>\n",
       "    </tr>\n",
       "    <tr>\n",
       "      <td>3</td>\n",
       "      <td>Jimmie Rivera</td>\n",
       "      <td>Petr Yan</td>\n",
       "      <td>0</td>\n",
       "      <td>2</td>\n",
       "      <td>73 of 192</td>\n",
       "      <td>56 of 189</td>\n",
       "      <td>38%</td>\n",
       "      <td>29%</td>\n",
       "      <td>76 of 195</td>\n",
       "      <td>58 of 192</td>\n",
       "      <td>0 of 3</td>\n",
       "      <td>1 of 3</td>\n",
       "      <td>0%</td>\n",
       "      <td>33%</td>\n",
       "      <td>0</td>\n",
       "      <td>0</td>\n",
       "      <td>0</td>\n",
       "      <td>1</td>\n",
       "      <td>0</td>\n",
       "      <td>0</td>\n",
       "      <td>42 of 145</td>\n",
       "      <td>40 of 166</td>\n",
       "      <td>15 of 24</td>\n",
       "      <td>13 of 19</td>\n",
       "      <td>16 of 23</td>\n",
       "      <td>3 of 4</td>\n",
       "      <td>60 of 173</td>\n",
       "      <td>42 of 167</td>\n",
       "      <td>9 of 15</td>\n",
       "      <td>10 of 12</td>\n",
       "      <td>4 of 4</td>\n",
       "      <td>4 of 10</td>\n",
       "      <td>Decision - Unanimous</td>\n",
       "      <td>3</td>\n",
       "      <td>5:00</td>\n",
       "      <td>3 Rnd (5-5-5)</td>\n",
       "      <td>Kevin MacDonald</td>\n",
       "      <td>June 08, 2019</td>\n",
       "      <td>Chicago, Illinois, USA</td>\n",
       "      <td>Bantamweight Bout</td>\n",
       "      <td>Petr Yan</td>\n",
       "    </tr>\n",
       "    <tr>\n",
       "      <td>4</td>\n",
       "      <td>Tai Tuivasa</td>\n",
       "      <td>Blagoy Ivanov</td>\n",
       "      <td>0</td>\n",
       "      <td>1</td>\n",
       "      <td>64 of 144</td>\n",
       "      <td>73 of 123</td>\n",
       "      <td>44%</td>\n",
       "      <td>59%</td>\n",
       "      <td>66 of 146</td>\n",
       "      <td>81 of 131</td>\n",
       "      <td>0 of 0</td>\n",
       "      <td>2 of 2</td>\n",
       "      <td>0%</td>\n",
       "      <td>100%</td>\n",
       "      <td>0</td>\n",
       "      <td>0</td>\n",
       "      <td>0</td>\n",
       "      <td>0</td>\n",
       "      <td>0</td>\n",
       "      <td>0</td>\n",
       "      <td>39 of 114</td>\n",
       "      <td>65 of 114</td>\n",
       "      <td>6 of 7</td>\n",
       "      <td>7 of 8</td>\n",
       "      <td>19 of 23</td>\n",
       "      <td>1 of 1</td>\n",
       "      <td>50 of 126</td>\n",
       "      <td>62 of 111</td>\n",
       "      <td>14 of 18</td>\n",
       "      <td>5 of 6</td>\n",
       "      <td>0 of 0</td>\n",
       "      <td>6 of 6</td>\n",
       "      <td>Decision - Unanimous</td>\n",
       "      <td>3</td>\n",
       "      <td>5:00</td>\n",
       "      <td>3 Rnd (5-5-5)</td>\n",
       "      <td>Dan Miragliotta</td>\n",
       "      <td>June 08, 2019</td>\n",
       "      <td>Chicago, Illinois, USA</td>\n",
       "      <td>Heavyweight Bout</td>\n",
       "      <td>Blagoy Ivanov</td>\n",
       "    </tr>\n",
       "  </tbody>\n",
       "</table>\n",
       "</div>"
      ],
      "text/plain": [
       "              R_fighter       B_fighter  R_KD  B_KD  R_SIG_STR. B_SIG_STR.  \\\n",
       "0          Henry Cejudo   Marlon Moraes     0     0   90 of 171  57 of 119   \n",
       "1  Valentina Shevchenko     Jessica Eye     1     0     8 of 11    2 of 12   \n",
       "2         Tony Ferguson  Donald Cerrone     0     0  104 of 200  68 of 185   \n",
       "3         Jimmie Rivera        Petr Yan     0     2   73 of 192  56 of 189   \n",
       "4           Tai Tuivasa   Blagoy Ivanov     0     1   64 of 144  73 of 123   \n",
       "\n",
       "  R_SIG_STR_pct B_SIG_STR_pct R_TOTAL_STR. B_TOTAL_STR.    R_TD    B_TD  \\\n",
       "0           52%           47%    99 of 182    59 of 121  1 of 4  0 of 2   \n",
       "1           72%           16%     37 of 40     42 of 52  2 of 2  0 of 0   \n",
       "2           52%           36%   104 of 200    68 of 185  0 of 0  1 of 1   \n",
       "3           38%           29%    76 of 195    58 of 192  0 of 3  1 of 3   \n",
       "4           44%           59%    66 of 146    81 of 131  0 of 0  2 of 2   \n",
       "\n",
       "  R_TD_pct B_TD_pct  R_SUB_ATT  B_SUB_ATT  R_PASS  B_PASS  R_REV  B_REV  \\\n",
       "0      25%       0%          1          0       1       0      0      0   \n",
       "1     100%       0%          1          0       3       0      0      0   \n",
       "2       0%     100%          0          0       0       0      0      0   \n",
       "3       0%      33%          0          0       0       1      0      0   \n",
       "4       0%     100%          0          0       0       0      0      0   \n",
       "\n",
       "      R_HEAD     B_HEAD    R_BODY    B_BODY     R_LEG     B_LEG  R_DISTANCE  \\\n",
       "0  73 of 150   35 of 89  13 of 16    7 of 8    4 of 5  15 of 22   45 of 118   \n",
       "1     4 of 5     0 of 7    4 of 6    0 of 2    0 of 0    2 of 3      5 of 8   \n",
       "2  65 of 144  43 of 152  25 of 37  15 of 23  14 of 19  10 of 10  103 of 198   \n",
       "3  42 of 145  40 of 166  15 of 24  13 of 19  16 of 23    3 of 4   60 of 173   \n",
       "4  39 of 114  65 of 114    6 of 7    7 of 8  19 of 23    1 of 1   50 of 126   \n",
       "\n",
       "  B_DISTANCE  R_CLINCH  B_CLINCH  R_GROUND B_GROUND                   win_by  \\\n",
       "0  54 of 116  19 of 23    2 of 2  26 of 30   1 of 1                   KO/TKO   \n",
       "1    2 of 12    2 of 2    0 of 0    1 of 1   0 of 0                   KO/TKO   \n",
       "2  68 of 184    1 of 2    0 of 1    0 of 0   0 of 0  TKO - Doctor's Stoppage   \n",
       "3  42 of 167   9 of 15  10 of 12    4 of 4  4 of 10     Decision - Unanimous   \n",
       "4  62 of 111  14 of 18    5 of 6    0 of 0   6 of 6     Decision - Unanimous   \n",
       "\n",
       "   last_round last_round_time             Format          Referee  \\\n",
       "0           3            4:51  5 Rnd (5-5-5-5-5)     Marc Goddard   \n",
       "1           2            0:26  5 Rnd (5-5-5-5-5)  Robert Madrigal   \n",
       "2           2            5:00      3 Rnd (5-5-5)  Dan Miragliotta   \n",
       "3           3            5:00      3 Rnd (5-5-5)  Kevin MacDonald   \n",
       "4           3            5:00      3 Rnd (5-5-5)  Dan Miragliotta   \n",
       "\n",
       "            date                location                        Fight_type  \\\n",
       "0  June 08, 2019  Chicago, Illinois, USA       UFC Bantamweight Title Bout   \n",
       "1  June 08, 2019  Chicago, Illinois, USA  UFC Women's Flyweight Title Bout   \n",
       "2  June 08, 2019  Chicago, Illinois, USA                  Lightweight Bout   \n",
       "3  June 08, 2019  Chicago, Illinois, USA                 Bantamweight Bout   \n",
       "4  June 08, 2019  Chicago, Illinois, USA                  Heavyweight Bout   \n",
       "\n",
       "                 Winner  \n",
       "0          Henry Cejudo  \n",
       "1  Valentina Shevchenko  \n",
       "2         Tony Ferguson  \n",
       "3              Petr Yan  \n",
       "4         Blagoy Ivanov  "
      ]
     },
     "execution_count": 4,
     "metadata": {},
     "output_type": "execute_result"
    }
   ],
   "source": [
    "df_total_fight_data.head()"
   ]
  },
  {
   "cell_type": "markdown",
   "metadata": {},
   "source": [
    "# Data Wrangling and Cleansing"
   ]
  },
  {
   "cell_type": "code",
   "execution_count": 5,
   "metadata": {},
   "outputs": [],
   "source": [
    "def get_success_percentage(obj):\n",
    "    obj = str(obj).strip().split('of') # Returns list of length 3\n",
    "    landed = int(obj[0])\n",
    "    attempted = int(obj[-1])\n",
    "    if attempted == 0:\n",
    "        return -1 # To indicate no attempts\n",
    "    success_percentage = round(landed * 100 / attempted, 2)\n",
    "    return success_percentage\n",
    "\n",
    "\n",
    "def alter_percentages(obj):\n",
    "    obj = str(obj)[:-1]\n",
    "    obj = float(obj)\n",
    "    return obj\n",
    "\n",
    "\n",
    "def extract_minutes(obj):\n",
    "    \"\"\" Helper function \"\"\"\n",
    "    obj = str(obj).split(':')\n",
    "    secs = int(obj[0]) * 60 + int(obj[-1])\n",
    "    mins = round(secs / 60, 2)\n",
    "    return mins\n",
    "\n",
    "\n",
    "def day_of_week(date):\n",
    "    \"\"\"\n",
    "    Takes in Pandas datetime, and returns the name of day of that date.\n",
    "    \"\"\"\n",
    "    day_index = date.weekday()\n",
    "    day = calendar.day_name[day_index]\n",
    "    return day\n",
    "\n",
    "\n",
    "def alter_date(date_obj):\n",
    "    month_mapper = {\n",
    "        'January': 1, 'February': 2, 'March': 3, 'April': 4, 'May': 5, 'June': 6, 'July': 7,\n",
    "        'August': 8, 'September': 9, 'October': 10, 'November': 11, 'December': 12\n",
    "    }\n",
    "    mmdd, yy = str(date_obj).split(',')\n",
    "    mm, dd = mmdd.split(' ')\n",
    "    yy = str(yy).strip()\n",
    "    dd = str(dd)\n",
    "    mm = str(month_mapper[mm])\n",
    "    final_date = pd.to_datetime(\"{}/{}/{}\".format(mm, dd, yy))\n",
    "    return final_date\n",
    "\n",
    "\n",
    "def map_categories(df, column):\n",
    "    df_temp = df.copy()\n",
    "    mapper_dict = dict()\n",
    "    new_column = column + '_'\n",
    "    categories = df_temp[column].dropna().unique().tolist()\n",
    "    for i, category in enumerate(categories):\n",
    "        mapper_dict[category] = i+1\n",
    "    df_temp[new_column] = df_temp[column].map(mapper_dict)\n",
    "    df_temp[new_column] = df_temp[new_column].astype(str)\n",
    "    return df_temp\n",
    "\n",
    "\n",
    "def extract_country(obj):\n",
    "    country = str(obj).split(',')[-1].strip().upper()\n",
    "    return country"
   ]
  },
  {
   "cell_type": "code",
   "execution_count": 6,
   "metadata": {},
   "outputs": [],
   "source": [
    "def engineer_features(df_raw):\n",
    "    df_temp = df_raw.copy()\n",
    "    df_temp.dropna(inplace=True)\n",
    "    df_temp['date'] = df_temp['date'].apply(alter_date)\n",
    "    \n",
    "    # Success percentages\n",
    "    features = ['R_KD', 'B_KD', 'R_TD', 'B_TD', 'R_HEAD', 'B_HEAD', 'R_BODY', 'B_BODY', 'R_LEG', 'B_LEG',\n",
    "                'R_SIG_STR.', 'B_SIG_STR.', 'R_TOTAL_STR.', 'B_TOTAL_STR.', 'R_CLINCH', 'B_CLINCH',\n",
    "                'R_GROUND', 'B_GROUND']\n",
    "    for feature in features:\n",
    "        new_feature = feature + '_success_percent'\n",
    "        df_temp[new_feature] = df_temp[feature].apply(get_success_percentage)\n",
    "    df_temp.drop(labels=features, axis=1, inplace=True)\n",
    "    \n",
    "    # Clean-up percentage signs (inplace)\n",
    "    features = ['R_SIG_STR_pct', 'B_SIG_STR_pct', 'R_TD_pct', 'B_TD_pct']\n",
    "    for feature in features:\n",
    "        df_temp[feature] = df_temp[feature].apply(alter_percentages)\n",
    "    \n",
    "    # Calculate minutes per fight\n",
    "    fight_mins = ((df_temp['last_round'] - 1) * 5) + df_temp['last_round_time'].apply(extract_minutes)\n",
    "    df_temp['fight_mins'] = fight_mins\n",
    "    \n",
    "    # Alter 'Winner' column into 'Result' column with [Red, Blue, Draw]\n",
    "    condn_red_wins = (df_temp['Winner'] == df_temp['R_fighter'])\n",
    "    condn_blue_wins = (df_temp['Winner'] == df_temp['B_fighter'])\n",
    "    condn_draw = ~ (condn_red_wins | condn_blue_wins)\n",
    "    \n",
    "    df_red_wins = df_temp.loc[condn_red_wins, :].copy()\n",
    "    df_red_wins['Result'] = 'Red'\n",
    "    df_blue_wins = df_temp.loc[condn_blue_wins, :].copy()\n",
    "    df_blue_wins['Result'] = 'Blue'\n",
    "    df_draws = df_temp.loc[condn_draw, :].copy()\n",
    "    df_draws['Result'] = 'Draw'\n",
    "    df_results_added = pd.concat(objs=[df_red_wins, df_blue_wins, df_draws], ignore_index=True, sort=False)\n",
    "    df_results_added.sort_values(by='date', ascending=False, inplace=True)\n",
    "    df_results_added.reset_index(drop=True, inplace=True)\n",
    "    \n",
    "    # Get few additional features and add categorical mapping\n",
    "    df_results_added['day_of_week'] = df_results_added['date'].apply(day_of_week)\n",
    "    df_results_added['country'] = df_results_added['location'].apply(extract_country)\n",
    "    df_results_added = map_categories(df=df_results_added, column='day_of_week')\n",
    "    df_results_added = map_categories(df=df_results_added, column='country')\n",
    "    df_results_added = map_categories(df=df_results_added, column='win_by')\n",
    "\n",
    "    features_to_drop = ['R_DISTANCE', 'B_DISTANCE', 'win_by', 'last_round', 'last_round_time', 'Format', 'Referee',\n",
    "                        'date', 'location', 'Fight_type', 'Winner', 'day_of_week', 'country']\n",
    "    if features_to_drop:\n",
    "        df_results_added.drop(labels=features_to_drop, axis=1, inplace=True)\n",
    "    return df_results_added"
   ]
  },
  {
   "cell_type": "code",
   "execution_count": 7,
   "metadata": {},
   "outputs": [
    {
     "name": "stdout",
     "output_type": "stream",
     "text": [
      "Wall time: 1.27 s\n"
     ]
    }
   ],
   "source": [
    "%%time\n",
    "df_examples = engineer_features(df_raw=df_total_fight_data)"
   ]
  },
  {
   "cell_type": "code",
   "execution_count": 8,
   "metadata": {},
   "outputs": [
    {
     "data": {
      "text/html": [
       "<div>\n",
       "<style scoped>\n",
       "    .dataframe tbody tr th:only-of-type {\n",
       "        vertical-align: middle;\n",
       "    }\n",
       "\n",
       "    .dataframe tbody tr th {\n",
       "        vertical-align: top;\n",
       "    }\n",
       "\n",
       "    .dataframe thead th {\n",
       "        text-align: right;\n",
       "    }\n",
       "</style>\n",
       "<table border=\"1\" class=\"dataframe\">\n",
       "  <thead>\n",
       "    <tr style=\"text-align: right;\">\n",
       "      <th></th>\n",
       "      <th>R_fighter</th>\n",
       "      <th>B_fighter</th>\n",
       "      <th>R_SIG_STR_pct</th>\n",
       "      <th>B_SIG_STR_pct</th>\n",
       "      <th>R_TD_pct</th>\n",
       "      <th>B_TD_pct</th>\n",
       "      <th>R_SUB_ATT</th>\n",
       "      <th>B_SUB_ATT</th>\n",
       "      <th>R_PASS</th>\n",
       "      <th>B_PASS</th>\n",
       "      <th>R_REV</th>\n",
       "      <th>B_REV</th>\n",
       "      <th>R_KD_success_percent</th>\n",
       "      <th>B_KD_success_percent</th>\n",
       "      <th>R_TD_success_percent</th>\n",
       "      <th>B_TD_success_percent</th>\n",
       "      <th>R_HEAD_success_percent</th>\n",
       "      <th>B_HEAD_success_percent</th>\n",
       "      <th>R_BODY_success_percent</th>\n",
       "      <th>B_BODY_success_percent</th>\n",
       "      <th>R_LEG_success_percent</th>\n",
       "      <th>B_LEG_success_percent</th>\n",
       "      <th>R_SIG_STR._success_percent</th>\n",
       "      <th>B_SIG_STR._success_percent</th>\n",
       "      <th>R_TOTAL_STR._success_percent</th>\n",
       "      <th>B_TOTAL_STR._success_percent</th>\n",
       "      <th>R_CLINCH_success_percent</th>\n",
       "      <th>B_CLINCH_success_percent</th>\n",
       "      <th>R_GROUND_success_percent</th>\n",
       "      <th>B_GROUND_success_percent</th>\n",
       "      <th>fight_mins</th>\n",
       "      <th>Result</th>\n",
       "      <th>day_of_week_</th>\n",
       "      <th>country_</th>\n",
       "      <th>win_by_</th>\n",
       "    </tr>\n",
       "  </thead>\n",
       "  <tbody>\n",
       "    <tr>\n",
       "      <td>0</td>\n",
       "      <td>Henry Cejudo</td>\n",
       "      <td>Marlon Moraes</td>\n",
       "      <td>52.0</td>\n",
       "      <td>47.0</td>\n",
       "      <td>25.0</td>\n",
       "      <td>0.0</td>\n",
       "      <td>1</td>\n",
       "      <td>0</td>\n",
       "      <td>1</td>\n",
       "      <td>0</td>\n",
       "      <td>0</td>\n",
       "      <td>0</td>\n",
       "      <td>-1.0</td>\n",
       "      <td>-1.0</td>\n",
       "      <td>25.0</td>\n",
       "      <td>0.00</td>\n",
       "      <td>48.67</td>\n",
       "      <td>39.33</td>\n",
       "      <td>81.25</td>\n",
       "      <td>87.50</td>\n",
       "      <td>80.00</td>\n",
       "      <td>68.18</td>\n",
       "      <td>52.63</td>\n",
       "      <td>47.90</td>\n",
       "      <td>54.40</td>\n",
       "      <td>48.76</td>\n",
       "      <td>82.61</td>\n",
       "      <td>100.00</td>\n",
       "      <td>86.67</td>\n",
       "      <td>100.0</td>\n",
       "      <td>14.85</td>\n",
       "      <td>Red</td>\n",
       "      <td>1</td>\n",
       "      <td>1</td>\n",
       "      <td>1</td>\n",
       "    </tr>\n",
       "    <tr>\n",
       "      <td>1</td>\n",
       "      <td>Katlyn Chookagian</td>\n",
       "      <td>Joanne Calderwood</td>\n",
       "      <td>37.0</td>\n",
       "      <td>42.0</td>\n",
       "      <td>0.0</td>\n",
       "      <td>75.0</td>\n",
       "      <td>0</td>\n",
       "      <td>0</td>\n",
       "      <td>0</td>\n",
       "      <td>0</td>\n",
       "      <td>0</td>\n",
       "      <td>0</td>\n",
       "      <td>-1.0</td>\n",
       "      <td>-1.0</td>\n",
       "      <td>0.0</td>\n",
       "      <td>75.00</td>\n",
       "      <td>27.93</td>\n",
       "      <td>17.27</td>\n",
       "      <td>74.07</td>\n",
       "      <td>47.50</td>\n",
       "      <td>80.00</td>\n",
       "      <td>79.31</td>\n",
       "      <td>37.10</td>\n",
       "      <td>42.11</td>\n",
       "      <td>43.20</td>\n",
       "      <td>47.00</td>\n",
       "      <td>60.00</td>\n",
       "      <td>58.33</td>\n",
       "      <td>100.00</td>\n",
       "      <td>50.0</td>\n",
       "      <td>15.00</td>\n",
       "      <td>Red</td>\n",
       "      <td>1</td>\n",
       "      <td>1</td>\n",
       "      <td>2</td>\n",
       "    </tr>\n",
       "    <tr>\n",
       "      <td>2</td>\n",
       "      <td>Jimmie Rivera</td>\n",
       "      <td>Petr Yan</td>\n",
       "      <td>38.0</td>\n",
       "      <td>29.0</td>\n",
       "      <td>0.0</td>\n",
       "      <td>33.0</td>\n",
       "      <td>0</td>\n",
       "      <td>0</td>\n",
       "      <td>0</td>\n",
       "      <td>1</td>\n",
       "      <td>0</td>\n",
       "      <td>0</td>\n",
       "      <td>-1.0</td>\n",
       "      <td>100.0</td>\n",
       "      <td>0.0</td>\n",
       "      <td>33.33</td>\n",
       "      <td>28.97</td>\n",
       "      <td>24.10</td>\n",
       "      <td>62.50</td>\n",
       "      <td>68.42</td>\n",
       "      <td>69.57</td>\n",
       "      <td>75.00</td>\n",
       "      <td>38.02</td>\n",
       "      <td>29.63</td>\n",
       "      <td>38.97</td>\n",
       "      <td>30.21</td>\n",
       "      <td>60.00</td>\n",
       "      <td>83.33</td>\n",
       "      <td>100.00</td>\n",
       "      <td>40.0</td>\n",
       "      <td>15.00</td>\n",
       "      <td>Blue</td>\n",
       "      <td>1</td>\n",
       "      <td>1</td>\n",
       "      <td>2</td>\n",
       "    </tr>\n",
       "    <tr>\n",
       "      <td>3</td>\n",
       "      <td>Tai Tuivasa</td>\n",
       "      <td>Blagoy Ivanov</td>\n",
       "      <td>44.0</td>\n",
       "      <td>59.0</td>\n",
       "      <td>0.0</td>\n",
       "      <td>100.0</td>\n",
       "      <td>0</td>\n",
       "      <td>0</td>\n",
       "      <td>0</td>\n",
       "      <td>0</td>\n",
       "      <td>0</td>\n",
       "      <td>0</td>\n",
       "      <td>-1.0</td>\n",
       "      <td>100.0</td>\n",
       "      <td>-1.0</td>\n",
       "      <td>100.00</td>\n",
       "      <td>34.21</td>\n",
       "      <td>57.02</td>\n",
       "      <td>85.71</td>\n",
       "      <td>87.50</td>\n",
       "      <td>82.61</td>\n",
       "      <td>100.00</td>\n",
       "      <td>44.44</td>\n",
       "      <td>59.35</td>\n",
       "      <td>45.21</td>\n",
       "      <td>61.83</td>\n",
       "      <td>77.78</td>\n",
       "      <td>83.33</td>\n",
       "      <td>-1.00</td>\n",
       "      <td>100.0</td>\n",
       "      <td>15.00</td>\n",
       "      <td>Blue</td>\n",
       "      <td>1</td>\n",
       "      <td>1</td>\n",
       "      <td>2</td>\n",
       "    </tr>\n",
       "    <tr>\n",
       "      <td>4</td>\n",
       "      <td>Karolina Kowalkiewicz</td>\n",
       "      <td>Alexa Grasso</td>\n",
       "      <td>38.0</td>\n",
       "      <td>40.0</td>\n",
       "      <td>0.0</td>\n",
       "      <td>0.0</td>\n",
       "      <td>0</td>\n",
       "      <td>1</td>\n",
       "      <td>0</td>\n",
       "      <td>0</td>\n",
       "      <td>0</td>\n",
       "      <td>0</td>\n",
       "      <td>-1.0</td>\n",
       "      <td>-1.0</td>\n",
       "      <td>-1.0</td>\n",
       "      <td>-1.00</td>\n",
       "      <td>29.57</td>\n",
       "      <td>31.83</td>\n",
       "      <td>81.82</td>\n",
       "      <td>71.74</td>\n",
       "      <td>61.54</td>\n",
       "      <td>67.65</td>\n",
       "      <td>38.79</td>\n",
       "      <td>40.11</td>\n",
       "      <td>39.32</td>\n",
       "      <td>42.45</td>\n",
       "      <td>73.33</td>\n",
       "      <td>83.33</td>\n",
       "      <td>-1.00</td>\n",
       "      <td>-1.0</td>\n",
       "      <td>15.00</td>\n",
       "      <td>Blue</td>\n",
       "      <td>1</td>\n",
       "      <td>1</td>\n",
       "      <td>2</td>\n",
       "    </tr>\n",
       "  </tbody>\n",
       "</table>\n",
       "</div>"
      ],
      "text/plain": [
       "               R_fighter          B_fighter  R_SIG_STR_pct  B_SIG_STR_pct  \\\n",
       "0           Henry Cejudo      Marlon Moraes           52.0           47.0   \n",
       "1      Katlyn Chookagian  Joanne Calderwood           37.0           42.0   \n",
       "2          Jimmie Rivera           Petr Yan           38.0           29.0   \n",
       "3            Tai Tuivasa      Blagoy Ivanov           44.0           59.0   \n",
       "4  Karolina Kowalkiewicz       Alexa Grasso           38.0           40.0   \n",
       "\n",
       "   R_TD_pct  B_TD_pct  R_SUB_ATT  B_SUB_ATT  R_PASS  B_PASS  R_REV  B_REV  \\\n",
       "0      25.0       0.0          1          0       1       0      0      0   \n",
       "1       0.0      75.0          0          0       0       0      0      0   \n",
       "2       0.0      33.0          0          0       0       1      0      0   \n",
       "3       0.0     100.0          0          0       0       0      0      0   \n",
       "4       0.0       0.0          0          1       0       0      0      0   \n",
       "\n",
       "   R_KD_success_percent  B_KD_success_percent  R_TD_success_percent  \\\n",
       "0                  -1.0                  -1.0                  25.0   \n",
       "1                  -1.0                  -1.0                   0.0   \n",
       "2                  -1.0                 100.0                   0.0   \n",
       "3                  -1.0                 100.0                  -1.0   \n",
       "4                  -1.0                  -1.0                  -1.0   \n",
       "\n",
       "   B_TD_success_percent  R_HEAD_success_percent  B_HEAD_success_percent  \\\n",
       "0                  0.00                   48.67                   39.33   \n",
       "1                 75.00                   27.93                   17.27   \n",
       "2                 33.33                   28.97                   24.10   \n",
       "3                100.00                   34.21                   57.02   \n",
       "4                 -1.00                   29.57                   31.83   \n",
       "\n",
       "   R_BODY_success_percent  B_BODY_success_percent  R_LEG_success_percent  \\\n",
       "0                   81.25                   87.50                  80.00   \n",
       "1                   74.07                   47.50                  80.00   \n",
       "2                   62.50                   68.42                  69.57   \n",
       "3                   85.71                   87.50                  82.61   \n",
       "4                   81.82                   71.74                  61.54   \n",
       "\n",
       "   B_LEG_success_percent  R_SIG_STR._success_percent  \\\n",
       "0                  68.18                       52.63   \n",
       "1                  79.31                       37.10   \n",
       "2                  75.00                       38.02   \n",
       "3                 100.00                       44.44   \n",
       "4                  67.65                       38.79   \n",
       "\n",
       "   B_SIG_STR._success_percent  R_TOTAL_STR._success_percent  \\\n",
       "0                       47.90                         54.40   \n",
       "1                       42.11                         43.20   \n",
       "2                       29.63                         38.97   \n",
       "3                       59.35                         45.21   \n",
       "4                       40.11                         39.32   \n",
       "\n",
       "   B_TOTAL_STR._success_percent  R_CLINCH_success_percent  \\\n",
       "0                         48.76                     82.61   \n",
       "1                         47.00                     60.00   \n",
       "2                         30.21                     60.00   \n",
       "3                         61.83                     77.78   \n",
       "4                         42.45                     73.33   \n",
       "\n",
       "   B_CLINCH_success_percent  R_GROUND_success_percent  \\\n",
       "0                    100.00                     86.67   \n",
       "1                     58.33                    100.00   \n",
       "2                     83.33                    100.00   \n",
       "3                     83.33                     -1.00   \n",
       "4                     83.33                     -1.00   \n",
       "\n",
       "   B_GROUND_success_percent  fight_mins Result day_of_week_ country_ win_by_  \n",
       "0                     100.0       14.85    Red            1        1       1  \n",
       "1                      50.0       15.00    Red            1        1       2  \n",
       "2                      40.0       15.00   Blue            1        1       2  \n",
       "3                     100.0       15.00   Blue            1        1       2  \n",
       "4                      -1.0       15.00   Blue            1        1       2  "
      ]
     },
     "execution_count": 8,
     "metadata": {},
     "output_type": "execute_result"
    }
   ],
   "source": [
    "df_examples.head()"
   ]
  },
  {
   "cell_type": "code",
   "execution_count": 9,
   "metadata": {},
   "outputs": [
    {
     "data": {
      "text/plain": [
       "(5039, 35)"
      ]
     },
     "execution_count": 9,
     "metadata": {},
     "output_type": "execute_result"
    }
   ],
   "source": [
    "df_examples.shape"
   ]
  },
  {
   "cell_type": "markdown",
   "metadata": {},
   "source": [
    "# Feature selection"
   ]
  },
  {
   "cell_type": "code",
   "execution_count": 10,
   "metadata": {},
   "outputs": [],
   "source": [
    "# to_drop = ['R_fighter', 'B_fighter', 'day_of_week_', 'country_', 'win_by_']\n",
    "to_drop = ['R_fighter', 'B_fighter']\n",
    "if to_drop:\n",
    "    df_examples.drop(labels=to_drop, axis=1, inplace=True)"
   ]
  },
  {
   "cell_type": "code",
   "execution_count": 11,
   "metadata": {},
   "outputs": [
    {
     "data": {
      "text/plain": [
       "(5039, 33)"
      ]
     },
     "execution_count": 11,
     "metadata": {},
     "output_type": "execute_result"
    }
   ],
   "source": [
    "df_examples.shape"
   ]
  },
  {
   "cell_type": "code",
   "execution_count": 12,
   "metadata": {},
   "outputs": [
    {
     "data": {
      "text/html": [
       "<div>\n",
       "<style scoped>\n",
       "    .dataframe tbody tr th:only-of-type {\n",
       "        vertical-align: middle;\n",
       "    }\n",
       "\n",
       "    .dataframe tbody tr th {\n",
       "        vertical-align: top;\n",
       "    }\n",
       "\n",
       "    .dataframe thead th {\n",
       "        text-align: right;\n",
       "    }\n",
       "</style>\n",
       "<table border=\"1\" class=\"dataframe\">\n",
       "  <thead>\n",
       "    <tr style=\"text-align: right;\">\n",
       "      <th></th>\n",
       "      <th>R_SIG_STR_pct</th>\n",
       "      <th>B_SIG_STR_pct</th>\n",
       "      <th>R_TD_pct</th>\n",
       "      <th>B_TD_pct</th>\n",
       "      <th>R_SUB_ATT</th>\n",
       "      <th>B_SUB_ATT</th>\n",
       "      <th>R_PASS</th>\n",
       "      <th>B_PASS</th>\n",
       "      <th>R_REV</th>\n",
       "      <th>B_REV</th>\n",
       "      <th>R_KD_success_percent</th>\n",
       "      <th>B_KD_success_percent</th>\n",
       "      <th>R_TD_success_percent</th>\n",
       "      <th>B_TD_success_percent</th>\n",
       "      <th>R_HEAD_success_percent</th>\n",
       "      <th>B_HEAD_success_percent</th>\n",
       "      <th>R_BODY_success_percent</th>\n",
       "      <th>B_BODY_success_percent</th>\n",
       "      <th>R_LEG_success_percent</th>\n",
       "      <th>B_LEG_success_percent</th>\n",
       "      <th>R_SIG_STR._success_percent</th>\n",
       "      <th>B_SIG_STR._success_percent</th>\n",
       "      <th>R_TOTAL_STR._success_percent</th>\n",
       "      <th>B_TOTAL_STR._success_percent</th>\n",
       "      <th>R_CLINCH_success_percent</th>\n",
       "      <th>B_CLINCH_success_percent</th>\n",
       "      <th>R_GROUND_success_percent</th>\n",
       "      <th>B_GROUND_success_percent</th>\n",
       "      <th>fight_mins</th>\n",
       "      <th>Result</th>\n",
       "      <th>day_of_week_</th>\n",
       "      <th>country_</th>\n",
       "      <th>win_by_</th>\n",
       "    </tr>\n",
       "  </thead>\n",
       "  <tbody>\n",
       "    <tr>\n",
       "      <td>0</td>\n",
       "      <td>52.0</td>\n",
       "      <td>47.0</td>\n",
       "      <td>25.0</td>\n",
       "      <td>0.0</td>\n",
       "      <td>1</td>\n",
       "      <td>0</td>\n",
       "      <td>1</td>\n",
       "      <td>0</td>\n",
       "      <td>0</td>\n",
       "      <td>0</td>\n",
       "      <td>-1.0</td>\n",
       "      <td>-1.0</td>\n",
       "      <td>25.0</td>\n",
       "      <td>0.00</td>\n",
       "      <td>48.67</td>\n",
       "      <td>39.33</td>\n",
       "      <td>81.25</td>\n",
       "      <td>87.50</td>\n",
       "      <td>80.00</td>\n",
       "      <td>68.18</td>\n",
       "      <td>52.63</td>\n",
       "      <td>47.90</td>\n",
       "      <td>54.40</td>\n",
       "      <td>48.76</td>\n",
       "      <td>82.61</td>\n",
       "      <td>100.00</td>\n",
       "      <td>86.67</td>\n",
       "      <td>100.0</td>\n",
       "      <td>14.85</td>\n",
       "      <td>Red</td>\n",
       "      <td>1</td>\n",
       "      <td>1</td>\n",
       "      <td>1</td>\n",
       "    </tr>\n",
       "    <tr>\n",
       "      <td>1</td>\n",
       "      <td>37.0</td>\n",
       "      <td>42.0</td>\n",
       "      <td>0.0</td>\n",
       "      <td>75.0</td>\n",
       "      <td>0</td>\n",
       "      <td>0</td>\n",
       "      <td>0</td>\n",
       "      <td>0</td>\n",
       "      <td>0</td>\n",
       "      <td>0</td>\n",
       "      <td>-1.0</td>\n",
       "      <td>-1.0</td>\n",
       "      <td>0.0</td>\n",
       "      <td>75.00</td>\n",
       "      <td>27.93</td>\n",
       "      <td>17.27</td>\n",
       "      <td>74.07</td>\n",
       "      <td>47.50</td>\n",
       "      <td>80.00</td>\n",
       "      <td>79.31</td>\n",
       "      <td>37.10</td>\n",
       "      <td>42.11</td>\n",
       "      <td>43.20</td>\n",
       "      <td>47.00</td>\n",
       "      <td>60.00</td>\n",
       "      <td>58.33</td>\n",
       "      <td>100.00</td>\n",
       "      <td>50.0</td>\n",
       "      <td>15.00</td>\n",
       "      <td>Red</td>\n",
       "      <td>1</td>\n",
       "      <td>1</td>\n",
       "      <td>2</td>\n",
       "    </tr>\n",
       "    <tr>\n",
       "      <td>2</td>\n",
       "      <td>38.0</td>\n",
       "      <td>29.0</td>\n",
       "      <td>0.0</td>\n",
       "      <td>33.0</td>\n",
       "      <td>0</td>\n",
       "      <td>0</td>\n",
       "      <td>0</td>\n",
       "      <td>1</td>\n",
       "      <td>0</td>\n",
       "      <td>0</td>\n",
       "      <td>-1.0</td>\n",
       "      <td>100.0</td>\n",
       "      <td>0.0</td>\n",
       "      <td>33.33</td>\n",
       "      <td>28.97</td>\n",
       "      <td>24.10</td>\n",
       "      <td>62.50</td>\n",
       "      <td>68.42</td>\n",
       "      <td>69.57</td>\n",
       "      <td>75.00</td>\n",
       "      <td>38.02</td>\n",
       "      <td>29.63</td>\n",
       "      <td>38.97</td>\n",
       "      <td>30.21</td>\n",
       "      <td>60.00</td>\n",
       "      <td>83.33</td>\n",
       "      <td>100.00</td>\n",
       "      <td>40.0</td>\n",
       "      <td>15.00</td>\n",
       "      <td>Blue</td>\n",
       "      <td>1</td>\n",
       "      <td>1</td>\n",
       "      <td>2</td>\n",
       "    </tr>\n",
       "    <tr>\n",
       "      <td>3</td>\n",
       "      <td>44.0</td>\n",
       "      <td>59.0</td>\n",
       "      <td>0.0</td>\n",
       "      <td>100.0</td>\n",
       "      <td>0</td>\n",
       "      <td>0</td>\n",
       "      <td>0</td>\n",
       "      <td>0</td>\n",
       "      <td>0</td>\n",
       "      <td>0</td>\n",
       "      <td>-1.0</td>\n",
       "      <td>100.0</td>\n",
       "      <td>-1.0</td>\n",
       "      <td>100.00</td>\n",
       "      <td>34.21</td>\n",
       "      <td>57.02</td>\n",
       "      <td>85.71</td>\n",
       "      <td>87.50</td>\n",
       "      <td>82.61</td>\n",
       "      <td>100.00</td>\n",
       "      <td>44.44</td>\n",
       "      <td>59.35</td>\n",
       "      <td>45.21</td>\n",
       "      <td>61.83</td>\n",
       "      <td>77.78</td>\n",
       "      <td>83.33</td>\n",
       "      <td>-1.00</td>\n",
       "      <td>100.0</td>\n",
       "      <td>15.00</td>\n",
       "      <td>Blue</td>\n",
       "      <td>1</td>\n",
       "      <td>1</td>\n",
       "      <td>2</td>\n",
       "    </tr>\n",
       "    <tr>\n",
       "      <td>4</td>\n",
       "      <td>38.0</td>\n",
       "      <td>40.0</td>\n",
       "      <td>0.0</td>\n",
       "      <td>0.0</td>\n",
       "      <td>0</td>\n",
       "      <td>1</td>\n",
       "      <td>0</td>\n",
       "      <td>0</td>\n",
       "      <td>0</td>\n",
       "      <td>0</td>\n",
       "      <td>-1.0</td>\n",
       "      <td>-1.0</td>\n",
       "      <td>-1.0</td>\n",
       "      <td>-1.00</td>\n",
       "      <td>29.57</td>\n",
       "      <td>31.83</td>\n",
       "      <td>81.82</td>\n",
       "      <td>71.74</td>\n",
       "      <td>61.54</td>\n",
       "      <td>67.65</td>\n",
       "      <td>38.79</td>\n",
       "      <td>40.11</td>\n",
       "      <td>39.32</td>\n",
       "      <td>42.45</td>\n",
       "      <td>73.33</td>\n",
       "      <td>83.33</td>\n",
       "      <td>-1.00</td>\n",
       "      <td>-1.0</td>\n",
       "      <td>15.00</td>\n",
       "      <td>Blue</td>\n",
       "      <td>1</td>\n",
       "      <td>1</td>\n",
       "      <td>2</td>\n",
       "    </tr>\n",
       "  </tbody>\n",
       "</table>\n",
       "</div>"
      ],
      "text/plain": [
       "   R_SIG_STR_pct  B_SIG_STR_pct  R_TD_pct  B_TD_pct  R_SUB_ATT  B_SUB_ATT  \\\n",
       "0           52.0           47.0      25.0       0.0          1          0   \n",
       "1           37.0           42.0       0.0      75.0          0          0   \n",
       "2           38.0           29.0       0.0      33.0          0          0   \n",
       "3           44.0           59.0       0.0     100.0          0          0   \n",
       "4           38.0           40.0       0.0       0.0          0          1   \n",
       "\n",
       "   R_PASS  B_PASS  R_REV  B_REV  R_KD_success_percent  B_KD_success_percent  \\\n",
       "0       1       0      0      0                  -1.0                  -1.0   \n",
       "1       0       0      0      0                  -1.0                  -1.0   \n",
       "2       0       1      0      0                  -1.0                 100.0   \n",
       "3       0       0      0      0                  -1.0                 100.0   \n",
       "4       0       0      0      0                  -1.0                  -1.0   \n",
       "\n",
       "   R_TD_success_percent  B_TD_success_percent  R_HEAD_success_percent  \\\n",
       "0                  25.0                  0.00                   48.67   \n",
       "1                   0.0                 75.00                   27.93   \n",
       "2                   0.0                 33.33                   28.97   \n",
       "3                  -1.0                100.00                   34.21   \n",
       "4                  -1.0                 -1.00                   29.57   \n",
       "\n",
       "   B_HEAD_success_percent  R_BODY_success_percent  B_BODY_success_percent  \\\n",
       "0                   39.33                   81.25                   87.50   \n",
       "1                   17.27                   74.07                   47.50   \n",
       "2                   24.10                   62.50                   68.42   \n",
       "3                   57.02                   85.71                   87.50   \n",
       "4                   31.83                   81.82                   71.74   \n",
       "\n",
       "   R_LEG_success_percent  B_LEG_success_percent  R_SIG_STR._success_percent  \\\n",
       "0                  80.00                  68.18                       52.63   \n",
       "1                  80.00                  79.31                       37.10   \n",
       "2                  69.57                  75.00                       38.02   \n",
       "3                  82.61                 100.00                       44.44   \n",
       "4                  61.54                  67.65                       38.79   \n",
       "\n",
       "   B_SIG_STR._success_percent  R_TOTAL_STR._success_percent  \\\n",
       "0                       47.90                         54.40   \n",
       "1                       42.11                         43.20   \n",
       "2                       29.63                         38.97   \n",
       "3                       59.35                         45.21   \n",
       "4                       40.11                         39.32   \n",
       "\n",
       "   B_TOTAL_STR._success_percent  R_CLINCH_success_percent  \\\n",
       "0                         48.76                     82.61   \n",
       "1                         47.00                     60.00   \n",
       "2                         30.21                     60.00   \n",
       "3                         61.83                     77.78   \n",
       "4                         42.45                     73.33   \n",
       "\n",
       "   B_CLINCH_success_percent  R_GROUND_success_percent  \\\n",
       "0                    100.00                     86.67   \n",
       "1                     58.33                    100.00   \n",
       "2                     83.33                    100.00   \n",
       "3                     83.33                     -1.00   \n",
       "4                     83.33                     -1.00   \n",
       "\n",
       "   B_GROUND_success_percent  fight_mins Result day_of_week_ country_ win_by_  \n",
       "0                     100.0       14.85    Red            1        1       1  \n",
       "1                      50.0       15.00    Red            1        1       2  \n",
       "2                      40.0       15.00   Blue            1        1       2  \n",
       "3                     100.0       15.00   Blue            1        1       2  \n",
       "4                      -1.0       15.00   Blue            1        1       2  "
      ]
     },
     "execution_count": 12,
     "metadata": {},
     "output_type": "execute_result"
    }
   ],
   "source": [
    "df_examples.head()"
   ]
  },
  {
   "cell_type": "markdown",
   "metadata": {},
   "source": [
    "# Create a hold-out dataset"
   ]
  },
  {
   "cell_type": "code",
   "execution_count": 13,
   "metadata": {},
   "outputs": [],
   "source": [
    "holdout = 100\n",
    "df_examples = df_examples[df_examples['Result'] != 'Draw']\n",
    "df_holdout = df_examples.head(holdout)\n",
    "df_examples = df_examples.tail(len(df_examples) - holdout)"
   ]
  },
  {
   "cell_type": "code",
   "execution_count": 14,
   "metadata": {},
   "outputs": [
    {
     "data": {
      "text/plain": [
       "((4939, 33), (100, 33))"
      ]
     },
     "execution_count": 14,
     "metadata": {},
     "output_type": "execute_result"
    }
   ],
   "source": [
    "df_examples.shape, df_holdout.shape"
   ]
  },
  {
   "cell_type": "code",
   "execution_count": 15,
   "metadata": {},
   "outputs": [
    {
     "name": "stdout",
     "output_type": "stream",
     "text": [
      "No missing values!\n"
     ]
    }
   ],
   "source": [
    "if df_examples.isnull().sum().sum() == 0:\n",
    "    print(\"No missing values!\")\n",
    "else:\n",
    "    print(\"There are missing values!\")"
   ]
  },
  {
   "cell_type": "code",
   "execution_count": 16,
   "metadata": {},
   "outputs": [],
   "source": [
    "from sklearn.preprocessing import StandardScaler\n",
    "from sklearn.model_selection import train_test_split, cross_val_score, GridSearchCV\n",
    "from sklearn.neighbors import KNeighborsClassifier\n",
    "from sklearn.linear_model import LogisticRegression\n",
    "from sklearn.ensemble import RandomForestClassifier\n",
    "from sklearn import svm, naive_bayes\n",
    "from sklearn.metrics import confusion_matrix, accuracy_score\n",
    "\n",
    "import joblib"
   ]
  },
  {
   "cell_type": "code",
   "execution_count": 17,
   "metadata": {},
   "outputs": [],
   "source": [
    "X = df_examples.drop(labels=['Result'], axis=1)\n",
    "y = df_examples['Result'].values\n",
    "X_train, X_test, y_train, y_test = train_test_split(X, y, test_size=0.25, random_state=0)"
   ]
  },
  {
   "cell_type": "code",
   "execution_count": 18,
   "metadata": {},
   "outputs": [
    {
     "name": "stderr",
     "output_type": "stream",
     "text": [
      "D:\\Anaconda\\lib\\site-packages\\sklearn\\preprocessing\\data.py:617: DataConversionWarning: Data with input dtype int64, float64, object were all converted to float64 by StandardScaler.\n",
      "  return self.partial_fit(X, y)\n",
      "D:\\Anaconda\\lib\\site-packages\\sklearn\\base.py:462: DataConversionWarning: Data with input dtype int64, float64, object were all converted to float64 by StandardScaler.\n",
      "  return self.fit(X, **fit_params).transform(X)\n",
      "D:\\Anaconda\\lib\\site-packages\\ipykernel_launcher.py:4: DataConversionWarning: Data with input dtype int64, float64, object were all converted to float64 by StandardScaler.\n",
      "  after removing the cwd from sys.path.\n"
     ]
    }
   ],
   "source": [
    "# Feature Scaling\n",
    "sc_X = StandardScaler()\n",
    "X_train = sc_X.fit_transform(X_train)\n",
    "X_test = sc_X.transform(X_test)"
   ]
  },
  {
   "cell_type": "code",
   "execution_count": 19,
   "metadata": {},
   "outputs": [],
   "source": [
    "classifier = RandomForestClassifier(n_estimators=30, criterion='gini', max_depth=30)\n",
    "model = classifier.fit(X_train, y_train)\n",
    "y_pred = model.predict(X_test)\n",
    "model_accuracy = accuracy_score(y_true=y_test, y_pred=y_pred, normalize=True) * 100\n",
    "model_accuracy = round(model_accuracy, 2)"
   ]
  },
  {
   "cell_type": "code",
   "execution_count": 20,
   "metadata": {},
   "outputs": [
    {
     "data": {
      "text/plain": [
       "85.59"
      ]
     },
     "execution_count": 20,
     "metadata": {},
     "output_type": "execute_result"
    }
   ],
   "source": [
    "model_accuracy"
   ]
  },
  {
   "cell_type": "code",
   "execution_count": 21,
   "metadata": {},
   "outputs": [
    {
     "data": {
      "text/plain": [
       "0.8485913044124566"
      ]
     },
     "execution_count": 21,
     "metadata": {},
     "output_type": "execute_result"
    }
   ],
   "source": [
    "scores = cross_val_score(estimator=model, X=X, y=y, cv=20, scoring='accuracy')\n",
    "scores.mean()"
   ]
  },
  {
   "cell_type": "code",
   "execution_count": null,
   "metadata": {},
   "outputs": [],
   "source": []
  },
  {
   "cell_type": "markdown",
   "metadata": {},
   "source": [
    "## Hyperparameter tuning"
   ]
  },
  {
   "cell_type": "code",
   "execution_count": 22,
   "metadata": {},
   "outputs": [],
   "source": [
    "param_grid = dict(\n",
    "    n_estimators=np.arange(10,100+1,10),\n",
    "    criterion=['gini', 'entropy'],\n",
    "    max_depth=np.arange(10,100+1,10),\n",
    "    min_samples_split=[1,2,3]\n",
    ")\n",
    "\n",
    "grid = GridSearchCV(estimator=model, param_grid=param_grid, cv=10, scoring='accuracy')"
   ]
  },
  {
   "cell_type": "code",
   "execution_count": 23,
   "metadata": {},
   "outputs": [
    {
     "data": {
      "text/plain": [
       "RandomForestClassifier(bootstrap=True, class_weight=None, criterion='gini',\n",
       "            max_depth=30, max_features='auto', max_leaf_nodes=None,\n",
       "            min_impurity_decrease=0.0, min_impurity_split=None,\n",
       "            min_samples_leaf=1, min_samples_split=2,\n",
       "            min_weight_fraction_leaf=0.0, n_estimators=30, n_jobs=None,\n",
       "            oob_score=False, random_state=None, verbose=0,\n",
       "            warm_start=False)"
      ]
     },
     "execution_count": 23,
     "metadata": {},
     "output_type": "execute_result"
    }
   ],
   "source": [
    "grid.estimator"
   ]
  },
  {
   "cell_type": "code",
   "execution_count": 24,
   "metadata": {},
   "outputs": [],
   "source": [
    "classifier = RandomForestClassifier(bootstrap=True, class_weight=None, criterion='gini',\n",
    "                                    max_depth=30, max_features='auto', max_leaf_nodes=None,\n",
    "                                    min_impurity_decrease=0.0, min_impurity_split=None,\n",
    "                                    min_samples_leaf=1, min_samples_split=2,\n",
    "                                    min_weight_fraction_leaf=0.0, n_estimators=30, n_jobs=None,\n",
    "                                    oob_score=False, random_state=None, verbose=0,\n",
    "                                    warm_start=False)\n",
    "model = classifier.fit(X_train, y_train)\n",
    "y_pred = model.predict(X_test)\n",
    "model_accuracy = accuracy_score(y_true=y_test, y_pred=y_pred, normalize=True) * 100\n",
    "model_accuracy = round(model_accuracy, 2)"
   ]
  },
  {
   "cell_type": "code",
   "execution_count": 25,
   "metadata": {},
   "outputs": [
    {
     "data": {
      "text/plain": [
       "84.94"
      ]
     },
     "execution_count": 25,
     "metadata": {},
     "output_type": "execute_result"
    }
   ],
   "source": [
    "model_accuracy"
   ]
  },
  {
   "cell_type": "code",
   "execution_count": 26,
   "metadata": {},
   "outputs": [
    {
     "data": {
      "text/plain": [
       "array([[269, 114],\n",
       "       [ 72, 780]], dtype=int64)"
      ]
     },
     "execution_count": 26,
     "metadata": {},
     "output_type": "execute_result"
    }
   ],
   "source": [
    "cm = confusion_matrix(y_true=y_test, y_pred=y_pred)\n",
    "cm"
   ]
  },
  {
   "cell_type": "code",
   "execution_count": 27,
   "metadata": {},
   "outputs": [
    {
     "data": {
      "text/plain": [
       "(1049, 186)"
      ]
     },
     "execution_count": 27,
     "metadata": {},
     "output_type": "execute_result"
    }
   ],
   "source": [
    "correct = 0\n",
    "for i in range(len(cm)):\n",
    "    correct += cm[i][i]\n",
    "\n",
    "wrong = cm.sum() - correct\n",
    "\n",
    "correct, wrong"
   ]
  },
  {
   "cell_type": "code",
   "execution_count": 28,
   "metadata": {},
   "outputs": [
    {
     "data": {
      "text/plain": [
       "0.8493927125506073"
      ]
     },
     "execution_count": 28,
     "metadata": {},
     "output_type": "execute_result"
    }
   ],
   "source": [
    "correct / (correct+wrong)"
   ]
  },
  {
   "cell_type": "code",
   "execution_count": null,
   "metadata": {},
   "outputs": [],
   "source": []
  },
  {
   "cell_type": "markdown",
   "metadata": {},
   "source": [
    "## Make predictions on holdout dataset"
   ]
  },
  {
   "cell_type": "code",
   "execution_count": 29,
   "metadata": {},
   "outputs": [
    {
     "data": {
      "text/plain": [
       "Blue    51\n",
       "Red     49\n",
       "Name: Result, dtype: int64"
      ]
     },
     "execution_count": 29,
     "metadata": {},
     "output_type": "execute_result"
    }
   ],
   "source": [
    "df_holdout['Result'].value_counts()"
   ]
  },
  {
   "cell_type": "code",
   "execution_count": 30,
   "metadata": {},
   "outputs": [],
   "source": [
    "df_holdout_X = df_holdout.drop(labels='Result', axis=1)"
   ]
  },
  {
   "cell_type": "code",
   "execution_count": 31,
   "metadata": {},
   "outputs": [
    {
     "name": "stderr",
     "output_type": "stream",
     "text": [
      "D:\\Anaconda\\lib\\site-packages\\sklearn\\preprocessing\\data.py:617: DataConversionWarning: Data with input dtype int64, float64, object were all converted to float64 by StandardScaler.\n",
      "  return self.partial_fit(X, y)\n",
      "D:\\Anaconda\\lib\\site-packages\\sklearn\\base.py:462: DataConversionWarning: Data with input dtype int64, float64, object were all converted to float64 by StandardScaler.\n",
      "  return self.fit(X, **fit_params).transform(X)\n"
     ]
    }
   ],
   "source": [
    "sc = StandardScaler()\n",
    "X_holdout = sc.fit_transform(df_holdout_X)"
   ]
  },
  {
   "cell_type": "code",
   "execution_count": 32,
   "metadata": {},
   "outputs": [
    {
     "data": {
      "text/plain": [
       "array(['Red', 'Red', 'Red', 'Blue', 'Red', 'Blue', 'Red', 'Red', 'Red',\n",
       "       'Red', 'Red', 'Red', 'Red', 'Red', 'Red', 'Red', 'Red', 'Red',\n",
       "       'Red', 'Blue', 'Blue', 'Red', 'Red', 'Red', 'Red', 'Red', 'Blue',\n",
       "       'Blue', 'Blue', 'Blue', 'Red', 'Red', 'Red', 'Red', 'Red', 'Red',\n",
       "       'Red', 'Red', 'Red', 'Blue', 'Red', 'Blue', 'Red', 'Red', 'Red',\n",
       "       'Red', 'Red', 'Red', 'Blue', 'Blue', 'Red', 'Red', 'Red', 'Red',\n",
       "       'Red', 'Red', 'Red', 'Red', 'Red', 'Red', 'Blue', 'Red', 'Red',\n",
       "       'Red', 'Red', 'Red', 'Red', 'Red', 'Red', 'Blue', 'Red', 'Red',\n",
       "       'Red', 'Blue', 'Blue', 'Blue', 'Red', 'Red', 'Red', 'Red', 'Red',\n",
       "       'Red', 'Red', 'Red', 'Red', 'Blue', 'Red', 'Red', 'Red', 'Blue',\n",
       "       'Blue', 'Blue', 'Red', 'Red', 'Blue', 'Blue', 'Blue', 'Red', 'Red',\n",
       "       'Blue'], dtype=object)"
      ]
     },
     "execution_count": 32,
     "metadata": {},
     "output_type": "execute_result"
    }
   ],
   "source": [
    "y_pred = model.predict(X_holdout)\n",
    "y_pred"
   ]
  },
  {
   "cell_type": "code",
   "execution_count": 33,
   "metadata": {},
   "outputs": [
    {
     "data": {
      "text/plain": [
       "array(['Red', 'Red', 'Blue', 'Blue', 'Blue', 'Blue', 'Blue', 'Red', 'Red',\n",
       "       'Red', 'Red', 'Red', 'Red', 'Blue', 'Red', 'Blue', 'Blue', 'Blue',\n",
       "       'Blue', 'Blue', 'Blue', 'Blue', 'Red', 'Red', 'Red', 'Red', 'Blue',\n",
       "       'Blue', 'Blue', 'Blue', 'Red', 'Blue', 'Red', 'Red', 'Red', 'Red',\n",
       "       'Red', 'Blue', 'Blue', 'Blue', 'Blue', 'Blue', 'Red', 'Red', 'Red',\n",
       "       'Red', 'Red', 'Red', 'Blue', 'Blue', 'Blue', 'Blue', 'Blue',\n",
       "       'Blue', 'Blue', 'Red', 'Red', 'Red', 'Red', 'Red', 'Blue', 'Red',\n",
       "       'Red', 'Red', 'Red', 'Red', 'Red', 'Red', 'Blue', 'Blue', 'Blue',\n",
       "       'Blue', 'Blue', 'Blue', 'Blue', 'Blue', 'Red', 'Red', 'Red', 'Red',\n",
       "       'Red', 'Red', 'Red', 'Red', 'Red', 'Blue', 'Red', 'Red', 'Blue',\n",
       "       'Blue', 'Blue', 'Blue', 'Blue', 'Red', 'Blue', 'Blue', 'Blue',\n",
       "       'Blue', 'Blue', 'Blue'], dtype=object)"
      ]
     },
     "execution_count": 33,
     "metadata": {},
     "output_type": "execute_result"
    }
   ],
   "source": [
    "df_holdout['Result'].values"
   ]
  },
  {
   "cell_type": "code",
   "execution_count": 34,
   "metadata": {},
   "outputs": [
    {
     "data": {
      "text/plain": [
       "74.0"
      ]
     },
     "execution_count": 34,
     "metadata": {},
     "output_type": "execute_result"
    }
   ],
   "source": [
    "model_accuracy = accuracy_score(y_true=df_holdout['Result'].values, y_pred=y_pred, normalize=True) * 100\n",
    "model_accuracy = round(model_accuracy, 2)\n",
    "model_accuracy"
   ]
  },
  {
   "cell_type": "code",
   "execution_count": null,
   "metadata": {},
   "outputs": [],
   "source": []
  },
  {
   "cell_type": "code",
   "execution_count": 35,
   "metadata": {},
   "outputs": [],
   "source": [
    "def get_feature_importances(model, df):\n",
    "    feature_column = 'Feature'\n",
    "    importance_column = 'Importance_Percentage'\n",
    "    data = {\n",
    "        feature_column: df.columns,\n",
    "        importance_column: model.feature_importances_\n",
    "    }\n",
    "    df_feature_importances = pd.DataFrame(data=data).sort_values(by=importance_column, ascending=False)\n",
    "    df_feature_importances[importance_column] = df_feature_importances[importance_column] * 100\n",
    "    df_feature_importances[importance_column] = df_feature_importances[importance_column].apply(round, args=[2])\n",
    "    df_feature_importances.reset_index(drop=True, inplace=True)\n",
    "    return df_feature_importances"
   ]
  },
  {
   "cell_type": "code",
   "execution_count": 36,
   "metadata": {},
   "outputs": [
    {
     "data": {
      "text/html": [
       "<div>\n",
       "<style scoped>\n",
       "    .dataframe tbody tr th:only-of-type {\n",
       "        vertical-align: middle;\n",
       "    }\n",
       "\n",
       "    .dataframe tbody tr th {\n",
       "        vertical-align: top;\n",
       "    }\n",
       "\n",
       "    .dataframe thead th {\n",
       "        text-align: right;\n",
       "    }\n",
       "</style>\n",
       "<table border=\"1\" class=\"dataframe\">\n",
       "  <thead>\n",
       "    <tr style=\"text-align: right;\">\n",
       "      <th></th>\n",
       "      <th>Feature</th>\n",
       "      <th>Importance_Percentage</th>\n",
       "    </tr>\n",
       "  </thead>\n",
       "  <tbody>\n",
       "    <tr>\n",
       "      <td>0</td>\n",
       "      <td>B_GROUND_success_percent</td>\n",
       "      <td>6.79</td>\n",
       "    </tr>\n",
       "    <tr>\n",
       "      <td>1</td>\n",
       "      <td>R_HEAD_success_percent</td>\n",
       "      <td>6.47</td>\n",
       "    </tr>\n",
       "    <tr>\n",
       "      <td>2</td>\n",
       "      <td>R_GROUND_success_percent</td>\n",
       "      <td>5.91</td>\n",
       "    </tr>\n",
       "    <tr>\n",
       "      <td>3</td>\n",
       "      <td>B_KD_success_percent</td>\n",
       "      <td>5.91</td>\n",
       "    </tr>\n",
       "    <tr>\n",
       "      <td>4</td>\n",
       "      <td>B_SIG_STR._success_percent</td>\n",
       "      <td>5.50</td>\n",
       "    </tr>\n",
       "    <tr>\n",
       "      <td>5</td>\n",
       "      <td>B_HEAD_success_percent</td>\n",
       "      <td>5.37</td>\n",
       "    </tr>\n",
       "    <tr>\n",
       "      <td>6</td>\n",
       "      <td>R_SIG_STR._success_percent</td>\n",
       "      <td>4.99</td>\n",
       "    </tr>\n",
       "    <tr>\n",
       "      <td>7</td>\n",
       "      <td>R_TOTAL_STR._success_percent</td>\n",
       "      <td>4.69</td>\n",
       "    </tr>\n",
       "  </tbody>\n",
       "</table>\n",
       "</div>"
      ],
      "text/plain": [
       "                        Feature  Importance_Percentage\n",
       "0      B_GROUND_success_percent                   6.79\n",
       "1        R_HEAD_success_percent                   6.47\n",
       "2      R_GROUND_success_percent                   5.91\n",
       "3          B_KD_success_percent                   5.91\n",
       "4    B_SIG_STR._success_percent                   5.50\n",
       "5        B_HEAD_success_percent                   5.37\n",
       "6    R_SIG_STR._success_percent                   4.99\n",
       "7  R_TOTAL_STR._success_percent                   4.69"
      ]
     },
     "execution_count": 36,
     "metadata": {},
     "output_type": "execute_result"
    }
   ],
   "source": [
    "feat_importance = get_feature_importances(model=model, df=X)\n",
    "feat_importance.head(8)"
   ]
  },
  {
   "cell_type": "code",
   "execution_count": 37,
   "metadata": {},
   "outputs": [
    {
     "data": {
      "image/png": "[encoded data removed]",
      "text/plain": [
       "<Figure size 432x288 with 1 Axes>"
      ]
     },
     "metadata": {},
     "output_type": "display_data"
    }
   ],
   "source": [
    "feat_importance.head(12).set_index('Feature').plot(kind='barh', color='purple')\n",
    "plt.show()"
   ]
  },
  {
   "cell_type": "markdown",
   "metadata": {},
   "source": [
    "## Accuracy check"
   ]
  },
  {
   "cell_type": "code",
   "execution_count": 38,
   "metadata": {},
   "outputs": [
    {
     "data": {
      "text/plain": [
       "0.74"
      ]
     },
     "execution_count": 38,
     "metadata": {},
     "output_type": "execute_result"
    }
   ],
   "source": [
    "# Accuracy check\n",
    "\n",
    "predictions = pd.Series(y_pred)\n",
    "actual = pd.Series(df_holdout['Result'].values)\n",
    "df_compare = pd.DataFrame({\n",
    "    'actual': actual,\n",
    "    'predicted': predictions\n",
    "})\n",
    "\n",
    "df_compare[df_compare['actual'] == df_compare['predicted']].shape[0] / len(df_compare)"
   ]
  },
  {
   "cell_type": "code",
   "execution_count": null,
   "metadata": {},
   "outputs": [],
   "source": []
  },
  {
   "cell_type": "markdown",
   "metadata": {},
   "source": [
    "# Model selection via experimentation\n",
    "\n",
    "### Testing different algorithms/models"
   ]
  },
  {
   "cell_type": "code",
   "execution_count": 39,
   "metadata": {},
   "outputs": [
    {
     "name": "stderr",
     "output_type": "stream",
     "text": [
      "D:\\Anaconda\\lib\\site-packages\\sklearn\\linear_model\\sag.py:334: ConvergenceWarning: The max_iter was reached which means the coef_ did not converge\n",
      "  \"the coef_ did not converge\", ConvergenceWarning)\n",
      "D:\\Anaconda\\lib\\site-packages\\sklearn\\linear_model\\sag.py:334: ConvergenceWarning: The max_iter was reached which means the coef_ did not converge\n",
      "  \"the coef_ did not converge\", ConvergenceWarning)\n",
      "D:\\Anaconda\\lib\\site-packages\\sklearn\\linear_model\\sag.py:334: ConvergenceWarning: The max_iter was reached which means the coef_ did not converge\n",
      "  \"the coef_ did not converge\", ConvergenceWarning)\n",
      "D:\\Anaconda\\lib\\site-packages\\sklearn\\linear_model\\sag.py:334: ConvergenceWarning: The max_iter was reached which means the coef_ did not converge\n",
      "  \"the coef_ did not converge\", ConvergenceWarning)\n",
      "D:\\Anaconda\\lib\\site-packages\\sklearn\\linear_model\\sag.py:334: ConvergenceWarning: The max_iter was reached which means the coef_ did not converge\n",
      "  \"the coef_ did not converge\", ConvergenceWarning)\n",
      "D:\\Anaconda\\lib\\site-packages\\sklearn\\linear_model\\sag.py:334: ConvergenceWarning: The max_iter was reached which means the coef_ did not converge\n",
      "  \"the coef_ did not converge\", ConvergenceWarning)\n",
      "D:\\Anaconda\\lib\\site-packages\\sklearn\\linear_model\\sag.py:334: ConvergenceWarning: The max_iter was reached which means the coef_ did not converge\n",
      "  \"the coef_ did not converge\", ConvergenceWarning)\n",
      "D:\\Anaconda\\lib\\site-packages\\sklearn\\linear_model\\sag.py:334: ConvergenceWarning: The max_iter was reached which means the coef_ did not converge\n",
      "  \"the coef_ did not converge\", ConvergenceWarning)\n",
      "D:\\Anaconda\\lib\\site-packages\\sklearn\\linear_model\\sag.py:334: ConvergenceWarning: The max_iter was reached which means the coef_ did not converge\n",
      "  \"the coef_ did not converge\", ConvergenceWarning)\n",
      "D:\\Anaconda\\lib\\site-packages\\sklearn\\linear_model\\sag.py:334: ConvergenceWarning: The max_iter was reached which means the coef_ did not converge\n",
      "  \"the coef_ did not converge\", ConvergenceWarning)\n",
      "D:\\Anaconda\\lib\\site-packages\\sklearn\\linear_model\\sag.py:334: ConvergenceWarning: The max_iter was reached which means the coef_ did not converge\n",
      "  \"the coef_ did not converge\", ConvergenceWarning)\n",
      "D:\\Anaconda\\lib\\site-packages\\sklearn\\linear_model\\sag.py:334: ConvergenceWarning: The max_iter was reached which means the coef_ did not converge\n",
      "  \"the coef_ did not converge\", ConvergenceWarning)\n",
      "D:\\Anaconda\\lib\\site-packages\\sklearn\\linear_model\\sag.py:334: ConvergenceWarning: The max_iter was reached which means the coef_ did not converge\n",
      "  \"the coef_ did not converge\", ConvergenceWarning)\n",
      "D:\\Anaconda\\lib\\site-packages\\sklearn\\linear_model\\sag.py:334: ConvergenceWarning: The max_iter was reached which means the coef_ did not converge\n",
      "  \"the coef_ did not converge\", ConvergenceWarning)\n",
      "D:\\Anaconda\\lib\\site-packages\\sklearn\\linear_model\\sag.py:334: ConvergenceWarning: The max_iter was reached which means the coef_ did not converge\n",
      "  \"the coef_ did not converge\", ConvergenceWarning)\n",
      "D:\\Anaconda\\lib\\site-packages\\sklearn\\linear_model\\sag.py:334: ConvergenceWarning: The max_iter was reached which means the coef_ did not converge\n",
      "  \"the coef_ did not converge\", ConvergenceWarning)\n",
      "D:\\Anaconda\\lib\\site-packages\\sklearn\\linear_model\\sag.py:334: ConvergenceWarning: The max_iter was reached which means the coef_ did not converge\n",
      "  \"the coef_ did not converge\", ConvergenceWarning)\n",
      "D:\\Anaconda\\lib\\site-packages\\sklearn\\linear_model\\sag.py:334: ConvergenceWarning: The max_iter was reached which means the coef_ did not converge\n",
      "  \"the coef_ did not converge\", ConvergenceWarning)\n",
      "D:\\Anaconda\\lib\\site-packages\\sklearn\\linear_model\\sag.py:334: ConvergenceWarning: The max_iter was reached which means the coef_ did not converge\n",
      "  \"the coef_ did not converge\", ConvergenceWarning)\n",
      "D:\\Anaconda\\lib\\site-packages\\sklearn\\linear_model\\sag.py:334: ConvergenceWarning: The max_iter was reached which means the coef_ did not converge\n",
      "  \"the coef_ did not converge\", ConvergenceWarning)\n",
      "D:\\Anaconda\\lib\\site-packages\\sklearn\\linear_model\\sag.py:334: ConvergenceWarning: The max_iter was reached which means the coef_ did not converge\n",
      "  \"the coef_ did not converge\", ConvergenceWarning)\n",
      "D:\\Anaconda\\lib\\site-packages\\sklearn\\svm\\base.py:196: FutureWarning: The default value of gamma will change from 'auto' to 'scale' in version 0.22 to account better for unscaled features. Set gamma explicitly to 'auto' or 'scale' to avoid this warning.\n",
      "  \"avoid this warning.\", FutureWarning)\n",
      "D:\\Anaconda\\lib\\site-packages\\sklearn\\svm\\base.py:196: FutureWarning: The default value of gamma will change from 'auto' to 'scale' in version 0.22 to account better for unscaled features. Set gamma explicitly to 'auto' or 'scale' to avoid this warning.\n",
      "  \"avoid this warning.\", FutureWarning)\n",
      "D:\\Anaconda\\lib\\site-packages\\sklearn\\svm\\base.py:196: FutureWarning: The default value of gamma will change from 'auto' to 'scale' in version 0.22 to account better for unscaled features. Set gamma explicitly to 'auto' or 'scale' to avoid this warning.\n",
      "  \"avoid this warning.\", FutureWarning)\n",
      "D:\\Anaconda\\lib\\site-packages\\sklearn\\svm\\base.py:196: FutureWarning: The default value of gamma will change from 'auto' to 'scale' in version 0.22 to account better for unscaled features. Set gamma explicitly to 'auto' or 'scale' to avoid this warning.\n",
      "  \"avoid this warning.\", FutureWarning)\n",
      "D:\\Anaconda\\lib\\site-packages\\sklearn\\svm\\base.py:196: FutureWarning: The default value of gamma will change from 'auto' to 'scale' in version 0.22 to account better for unscaled features. Set gamma explicitly to 'auto' or 'scale' to avoid this warning.\n",
      "  \"avoid this warning.\", FutureWarning)\n",
      "D:\\Anaconda\\lib\\site-packages\\sklearn\\svm\\base.py:196: FutureWarning: The default value of gamma will change from 'auto' to 'scale' in version 0.22 to account better for unscaled features. Set gamma explicitly to 'auto' or 'scale' to avoid this warning.\n",
      "  \"avoid this warning.\", FutureWarning)\n",
      "D:\\Anaconda\\lib\\site-packages\\sklearn\\svm\\base.py:196: FutureWarning: The default value of gamma will change from 'auto' to 'scale' in version 0.22 to account better for unscaled features. Set gamma explicitly to 'auto' or 'scale' to avoid this warning.\n",
      "  \"avoid this warning.\", FutureWarning)\n",
      "D:\\Anaconda\\lib\\site-packages\\sklearn\\svm\\base.py:196: FutureWarning: The default value of gamma will change from 'auto' to 'scale' in version 0.22 to account better for unscaled features. Set gamma explicitly to 'auto' or 'scale' to avoid this warning.\n",
      "  \"avoid this warning.\", FutureWarning)\n",
      "D:\\Anaconda\\lib\\site-packages\\sklearn\\svm\\base.py:196: FutureWarning: The default value of gamma will change from 'auto' to 'scale' in version 0.22 to account better for unscaled features. Set gamma explicitly to 'auto' or 'scale' to avoid this warning.\n",
      "  \"avoid this warning.\", FutureWarning)\n",
      "D:\\Anaconda\\lib\\site-packages\\sklearn\\svm\\base.py:196: FutureWarning: The default value of gamma will change from 'auto' to 'scale' in version 0.22 to account better for unscaled features. Set gamma explicitly to 'auto' or 'scale' to avoid this warning.\n",
      "  \"avoid this warning.\", FutureWarning)\n",
      "D:\\Anaconda\\lib\\site-packages\\sklearn\\svm\\base.py:196: FutureWarning: The default value of gamma will change from 'auto' to 'scale' in version 0.22 to account better for unscaled features. Set gamma explicitly to 'auto' or 'scale' to avoid this warning.\n",
      "  \"avoid this warning.\", FutureWarning)\n",
      "D:\\Anaconda\\lib\\site-packages\\sklearn\\svm\\base.py:196: FutureWarning: The default value of gamma will change from 'auto' to 'scale' in version 0.22 to account better for unscaled features. Set gamma explicitly to 'auto' or 'scale' to avoid this warning.\n",
      "  \"avoid this warning.\", FutureWarning)\n",
      "D:\\Anaconda\\lib\\site-packages\\sklearn\\svm\\base.py:196: FutureWarning: The default value of gamma will change from 'auto' to 'scale' in version 0.22 to account better for unscaled features. Set gamma explicitly to 'auto' or 'scale' to avoid this warning.\n",
      "  \"avoid this warning.\", FutureWarning)\n",
      "D:\\Anaconda\\lib\\site-packages\\sklearn\\svm\\base.py:196: FutureWarning: The default value of gamma will change from 'auto' to 'scale' in version 0.22 to account better for unscaled features. Set gamma explicitly to 'auto' or 'scale' to avoid this warning.\n",
      "  \"avoid this warning.\", FutureWarning)\n"
     ]
    },
    {
     "name": "stderr",
     "output_type": "stream",
     "text": [
      "D:\\Anaconda\\lib\\site-packages\\sklearn\\svm\\base.py:196: FutureWarning: The default value of gamma will change from 'auto' to 'scale' in version 0.22 to account better for unscaled features. Set gamma explicitly to 'auto' or 'scale' to avoid this warning.\n",
      "  \"avoid this warning.\", FutureWarning)\n",
      "D:\\Anaconda\\lib\\site-packages\\sklearn\\svm\\base.py:196: FutureWarning: The default value of gamma will change from 'auto' to 'scale' in version 0.22 to account better for unscaled features. Set gamma explicitly to 'auto' or 'scale' to avoid this warning.\n",
      "  \"avoid this warning.\", FutureWarning)\n",
      "D:\\Anaconda\\lib\\site-packages\\sklearn\\svm\\base.py:196: FutureWarning: The default value of gamma will change from 'auto' to 'scale' in version 0.22 to account better for unscaled features. Set gamma explicitly to 'auto' or 'scale' to avoid this warning.\n",
      "  \"avoid this warning.\", FutureWarning)\n",
      "D:\\Anaconda\\lib\\site-packages\\sklearn\\svm\\base.py:196: FutureWarning: The default value of gamma will change from 'auto' to 'scale' in version 0.22 to account better for unscaled features. Set gamma explicitly to 'auto' or 'scale' to avoid this warning.\n",
      "  \"avoid this warning.\", FutureWarning)\n",
      "D:\\Anaconda\\lib\\site-packages\\sklearn\\svm\\base.py:196: FutureWarning: The default value of gamma will change from 'auto' to 'scale' in version 0.22 to account better for unscaled features. Set gamma explicitly to 'auto' or 'scale' to avoid this warning.\n",
      "  \"avoid this warning.\", FutureWarning)\n",
      "D:\\Anaconda\\lib\\site-packages\\sklearn\\svm\\base.py:196: FutureWarning: The default value of gamma will change from 'auto' to 'scale' in version 0.22 to account better for unscaled features. Set gamma explicitly to 'auto' or 'scale' to avoid this warning.\n",
      "  \"avoid this warning.\", FutureWarning)\n"
     ]
    },
    {
     "name": "stdout",
     "output_type": "stream",
     "text": [
      "Wall time: 55.8 s\n"
     ]
    }
   ],
   "source": [
    "%%time\n",
    "\n",
    "# Testing different algorithms/models\n",
    "use_cross_val = True\n",
    "dict_model_accuracy = dict()\n",
    "algorithms = ['knn', 'rfc', 'logistic_regression', 'svm', 'naive_bayes']\n",
    "for algorithm in algorithms:\n",
    "    if algorithm == 'knn':\n",
    "        classifier = KNeighborsClassifier(n_neighbors=55, metric='minkowski', p=2)\n",
    "    elif algorithm == 'rfc':\n",
    "        classifier = RandomForestClassifier(n_estimators=30, criterion='gini', max_depth=30)\n",
    "    elif algorithm == 'logistic_regression':\n",
    "        classifier = LogisticRegression(solver='sag')\n",
    "    elif algorithm == 'svm':\n",
    "        classifier = svm.SVC(kernel='rbf')\n",
    "    elif algorithm == 'naive_bayes':\n",
    "        classifier = naive_bayes.GaussianNB()\n",
    "\n",
    "    model = classifier.fit(X_train, y_train)\n",
    "    \n",
    "    if use_cross_val:\n",
    "        # Evaluate with k-fold cross-validation\n",
    "        scores = cross_val_score(estimator=model, X=X, y=y, cv=20, scoring='accuracy')\n",
    "        dict_model_accuracy[algorithm] = scores.mean()\n",
    "    else:        \n",
    "        # Evaluate with just the model\n",
    "        y_pred = model.predict(X_test)\n",
    "        # cm = confusion_matrix(y_test, y_pred)\n",
    "        model_accuracy = accuracy_score(y_true=y_test, y_pred=y_pred, normalize=True) * 100\n",
    "        model_accuracy = round(model_accuracy, 2)\n",
    "        dict_model_accuracy[algorithm] = model_accuracy\n",
    "#\n",
    "rename_dict = {\n",
    "    'index': 'algorithm',\n",
    "    0: 'accuracy_percentage'\n",
    "}\n",
    "df_accuracies = pd.DataFrame(dict_model_accuracy, index=[0]).T.reset_index().rename(mapper=rename_dict, axis=1)\n",
    "df_accuracies = df_accuracies.sort_values(by='accuracy_percentage', ascending=False).reset_index(drop=True)"
   ]
  },
  {
   "cell_type": "code",
   "execution_count": 40,
   "metadata": {},
   "outputs": [
    {
     "data": {
      "text/html": [
       "<div>\n",
       "<style scoped>\n",
       "    .dataframe tbody tr th:only-of-type {\n",
       "        vertical-align: middle;\n",
       "    }\n",
       "\n",
       "    .dataframe tbody tr th {\n",
       "        vertical-align: top;\n",
       "    }\n",
       "\n",
       "    .dataframe thead th {\n",
       "        text-align: right;\n",
       "    }\n",
       "</style>\n",
       "<table border=\"1\" class=\"dataframe\">\n",
       "  <thead>\n",
       "    <tr style=\"text-align: right;\">\n",
       "      <th></th>\n",
       "      <th>algorithm</th>\n",
       "      <th>accuracy_percentage</th>\n",
       "    </tr>\n",
       "  </thead>\n",
       "  <tbody>\n",
       "    <tr>\n",
       "      <td>0</td>\n",
       "      <td>rfc</td>\n",
       "      <td>0.849408</td>\n",
       "    </tr>\n",
       "    <tr>\n",
       "      <td>1</td>\n",
       "      <td>logistic_regression</td>\n",
       "      <td>0.836822</td>\n",
       "    </tr>\n",
       "    <tr>\n",
       "      <td>2</td>\n",
       "      <td>naive_bayes</td>\n",
       "      <td>0.814200</td>\n",
       "    </tr>\n",
       "    <tr>\n",
       "      <td>3</td>\n",
       "      <td>knn</td>\n",
       "      <td>0.808485</td>\n",
       "    </tr>\n",
       "    <tr>\n",
       "      <td>4</td>\n",
       "      <td>svm</td>\n",
       "      <td>0.690629</td>\n",
       "    </tr>\n",
       "  </tbody>\n",
       "</table>\n",
       "</div>"
      ],
      "text/plain": [
       "             algorithm  accuracy_percentage\n",
       "0                  rfc             0.849408\n",
       "1  logistic_regression             0.836822\n",
       "2          naive_bayes             0.814200\n",
       "3                  knn             0.808485\n",
       "4                  svm             0.690629"
      ]
     },
     "execution_count": 40,
     "metadata": {},
     "output_type": "execute_result"
    }
   ],
   "source": [
    "df_accuracies"
   ]
  },
  {
   "cell_type": "code",
   "execution_count": 41,
   "metadata": {},
   "outputs": [
    {
     "data": {
      "image/png": "[encoded data removed]",
      "text/plain": [
       "<Figure size 432x288 with 1 Axes>"
      ]
     },
     "metadata": {},
     "output_type": "display_data"
    }
   ],
   "source": [
    "df_accuracies.set_index('algorithm').plot(kind='barh', color='orange')\n",
    "plt.show()"
   ]
  },
  {
   "cell_type": "code",
   "execution_count": null,
   "metadata": {},
   "outputs": [],
   "source": []
  },
  {
   "cell_type": "code",
   "execution_count": 42,
   "metadata": {},
   "outputs": [],
   "source": [
    "def save_to_csv(df, filename):\n",
    "    df.to_csv(\"{}.csv\".format(filename), index=False)\n",
    "    return '{} saved as CSV'.format(filename)"
   ]
  },
  {
   "cell_type": "code",
   "execution_count": 43,
   "metadata": {},
   "outputs": [
    {
     "data": {
      "text/plain": [
       "'df_examples saved as CSV'"
      ]
     },
     "execution_count": 43,
     "metadata": {},
     "output_type": "execute_result"
    }
   ],
   "source": [
    "save_to_csv(df=df_examples, filename='df_examples')"
   ]
  },
  {
   "cell_type": "code",
   "execution_count": 44,
   "metadata": {},
   "outputs": [
    {
     "data": {
      "text/plain": [
       "'df_holdout saved as CSV'"
      ]
     },
     "execution_count": 44,
     "metadata": {},
     "output_type": "execute_result"
    }
   ],
   "source": [
    "save_to_csv(df=df_holdout, filename='df_holdout')"
   ]
  },
  {
   "cell_type": "code",
   "execution_count": null,
   "metadata": {},
   "outputs": [],
   "source": []
  }
 ],
 "metadata": {
  "kernelspec": {
   "display_name": "Python 3",
   "language": "python",
   "name": "python3"
  },
  "language_info": {
   "codemirror_mode": {
    "name": "ipython",
    "version": 3
   },
   "file_extension": ".py",
   "mimetype": "text/x-python",
   "name": "python",
   "nbconvert_exporter": "python",
   "pygments_lexer": "ipython3",
   "version": "3.6.7"
  }
 },
 "nbformat": 4,
 "nbformat_minor": 2
}
